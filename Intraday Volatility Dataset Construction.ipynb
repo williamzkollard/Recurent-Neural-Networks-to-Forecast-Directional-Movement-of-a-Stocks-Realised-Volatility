{
 "cells": [
  {
   "cell_type": "code",
   "execution_count": 1,
   "metadata": {},
   "outputs": [],
   "source": [
    "import numpy as np \n",
    "import pandas as pd\n",
    "from datetime import datetime"
   ]
  },
  {
   "cell_type": "code",
   "execution_count": 2,
   "metadata": {},
   "outputs": [],
   "source": [
    "data_1hour = pd.read_csv('AAPL_full_1hour_adjsplit.csv')\n",
    "data_1hour.columns = ['Date', 'Open', 'High', 'Low', 'Close', 'Volume']\n",
    "data_1day = pd.read_csv('AAPL_full_1day_adjsplit.csv')\n",
    "data_1day.columns = ['Date', 'Open', 'High', 'Low', 'Close', 'Volume']\n",
    "data_1hour_dropped = data_1hour.drop([0,1,2,3,4,5,6,7,8,9], axis =0)\n",
    "data_1hour_dropped = pd.DataFrame(data_1hour_dropped)\n",
    "data_1hour_dropped['Date'] = pd.to_datetime(data_1hour_dropped['Date'], format=\"%Y-%m-%d %H:%M:%S\")\n",
    "data_1hour_dropped[\"Hourly Log Return\"] = np.log(data_1hour_dropped['Close']).diff()"
   ]
  },
  {
   "cell_type": "code",
   "execution_count": 3,
   "metadata": {},
   "outputs": [
    {
     "name": "stderr",
     "output_type": "stream",
     "text": [
      "/var/folders/cb/9kkmszhd7fx9_93t2qb1_s640000gn/T/ipykernel_18091/3371622272.py:12: RuntimeWarning: invalid value encountered in double_scalars\n",
      "  intraday_volatility = date_log_return_df.resample('D').apply(lambda x: (x ** 2).sum(axis=0) / x.notna().sum(axis=0)).apply(lambda x: x ** 0.5)\n"
     ]
    }
   ],
   "source": [
    "def calculate_intraday_volatility(dataframe):\n",
    "\n",
    "    if 'Date' in dataframe.columns and not pd.api.types.is_datetime64_any_dtype(dataframe['Date']):\n",
    "        dataframe['Date'] = pd.to_datetime(dataframe['Date'], format=\"%Y-%m-%d %H:%M:%S\")\n",
    "\n",
    "    # Extract 'Date' and 'Hourly_Log_Return' columns\n",
    "    date_log_return_df = dataframe[['Date', 'Hourly Log Return']]\n",
    "\n",
    "    # Set 'Date' as the index\n",
    "    date_log_return_df.set_index('Date', inplace=True)\n",
    "   \n",
    "    intraday_volatility = date_log_return_df.resample('D').apply(lambda x: (x ** 2).sum(axis=0) / x.notna().sum(axis=0)).apply(lambda x: x ** 0.5)\n",
    "\n",
    "    intraday_volatility.reset_index(inplace=True)\n",
    "\n",
    "    intraday_volatility.columns = ['Date', 'Intraday_Volatility']\n",
    "\n",
    "    return intraday_volatility\n",
    "\n",
    "result_df = calculate_intraday_volatility(data_1hour_dropped)\n"
   ]
  },
  {
   "cell_type": "code",
   "execution_count": 4,
   "metadata": {},
   "outputs": [],
   "source": [
    "def remove_zero_volatility(dataframe):\n",
    "\n",
    "    # Filter rows where 'Intraday_Volatility' is not zero\n",
    "    filtered_dataframe = dataframe[dataframe['Intraday_Volatility'] != 0]\n",
    "\n",
    "    return filtered_dataframe\n",
    "\n",
    "# Remove rows with zero intraday volatility\n",
    "newresults = remove_zero_volatility(result_df)\n"
   ]
  },
  {
   "cell_type": "code",
   "execution_count": 5,
   "metadata": {
    "scrolled": true
   },
   "outputs": [],
   "source": [
    "def find_dates_not_in_both(series1, series2):\n",
    "\n",
    "    dates_not_in_series1 = series1[~series1.isin(series2)]\n",
    "    dates_not_in_series2 = series2[~series2.isin(series1)]\n",
    "\n",
    "series1 = data_1day[\"Date\"]\n",
    "series2 = newresults[\"Date\"]\n",
    "\n",
    "find_dates_not_in_both(series1, series2)"
   ]
  },
  {
   "cell_type": "code",
   "execution_count": 6,
   "metadata": {},
   "outputs": [],
   "source": [
    "newresults2 = newresults.drop(newresults[newresults['Date'] == \"2023-09-19\"].index)"
   ]
  },
  {
   "cell_type": "code",
   "execution_count": 7,
   "metadata": {},
   "outputs": [],
   "source": [
    "data_1day['Date'] = pd.to_datetime(data_1day['Date'])\n",
    "newresults2['Date'] = pd.to_datetime(newresults2['Date'])\n",
    "data_1day.set_index('Date', inplace=True)\n",
    "newresults2.set_index('Date', inplace=True)"
   ]
  },
  {
   "cell_type": "code",
   "execution_count": 8,
   "metadata": {},
   "outputs": [],
   "source": [
    "data_1day[\"Daily Volatility\"] = newresults2[\"Intraday_Volatility\"]\n",
    "data_1day['Range'] = data_1day['High'] - data_1day['Low']\n",
    "data_1day['Return'] = np.log(data_1day['Close']).diff()\n",
    "data_1day['Return_Squared'] = np.square(data_1day['Return'])\n",
    "data_1day = data_1day.dropna()"
   ]
  },
  {
   "cell_type": "code",
   "execution_count": 9,
   "metadata": {},
   "outputs": [
    {
     "name": "stdout",
     "output_type": "stream",
     "text": [
      "Requirement already satisfied: pandas_ta in /Users/williamkollard/anaconda3/envs/diss_model/lib/python3.9/site-packages (0.3.14b0)\n",
      "Requirement already satisfied: pandas in /Users/williamkollard/anaconda3/envs/diss_model/lib/python3.9/site-packages (from pandas_ta) (2.1.4)\n",
      "Requirement already satisfied: numpy<2,>=1.22.4 in /Users/williamkollard/anaconda3/envs/diss_model/lib/python3.9/site-packages (from pandas->pandas_ta) (1.23.5)\n",
      "Requirement already satisfied: python-dateutil>=2.8.2 in /Users/williamkollard/anaconda3/envs/diss_model/lib/python3.9/site-packages (from pandas->pandas_ta) (2.8.2)\n",
      "Requirement already satisfied: pytz>=2020.1 in /Users/williamkollard/anaconda3/envs/diss_model/lib/python3.9/site-packages (from pandas->pandas_ta) (2023.3.post1)\n",
      "Requirement already satisfied: tzdata>=2022.1 in /Users/williamkollard/anaconda3/envs/diss_model/lib/python3.9/site-packages (from pandas->pandas_ta) (2023.4)\n",
      "Requirement already satisfied: six>=1.5 in /Users/williamkollard/anaconda3/envs/diss_model/lib/python3.9/site-packages (from python-dateutil>=2.8.2->pandas->pandas_ta) (1.15.0)\n",
      "Note: you may need to restart the kernel to use updated packages.\n"
     ]
    }
   ],
   "source": [
    "pip install pandas_ta"
   ]
  },
  {
   "cell_type": "code",
   "execution_count": 10,
   "metadata": {},
   "outputs": [
    {
     "name": "stderr",
     "output_type": "stream",
     "text": [
      "[*********************100%%**********************]  1 of 1 completed\n"
     ]
    }
   ],
   "source": [
    "import yfinance as yf\n",
    "import pandas_ta as ta\n",
    "data = yf.download(tickers = 'AAPL', start = '2005-01-05', end = '2024-01-20')\n",
    "data['EMAF'] = ta.ema(data.Close, length = 20)\n",
    "data_1day[\"EMAF\"] = data[\"EMAF\"]\n",
    "data = data_1day.dropna()\n",
    "daily_volatility = data[\"Daily Volatility\"]"
   ]
  },
  {
   "cell_type": "code",
   "execution_count": 11,
   "metadata": {},
   "outputs": [
    {
     "name": "stderr",
     "output_type": "stream",
     "text": [
      "/var/folders/cb/9kkmszhd7fx9_93t2qb1_s640000gn/T/ipykernel_18091/1696610430.py:1: FutureWarning: Series.__getitem__ treating keys as positions is deprecated. In a future version, integer keys will always be treated as labels (consistent with DataFrame behavior). To access a value by position, use `ser.iloc[pos]`\n",
      "  target = [1 if daily_volatility[i] > daily_volatility[i - 1] else -1 for i in range(1, len(daily_volatility))]\n"
     ]
    }
   ],
   "source": [
    "target = [1 if daily_volatility[i] > daily_volatility[i - 1] else -1 for i in range(1, len(daily_volatility))]\n",
    "    # The first day has no previous day to compare, so the signal is set to 0.\n",
    "target = [0] + target"
   ]
  },
  {
   "cell_type": "code",
   "execution_count": 12,
   "metadata": {},
   "outputs": [
    {
     "name": "stderr",
     "output_type": "stream",
     "text": [
      "/var/folders/cb/9kkmszhd7fx9_93t2qb1_s640000gn/T/ipykernel_18091/2803209678.py:6: SettingWithCopyWarning: \n",
      "A value is trying to be set on a copy of a slice from a DataFrame.\n",
      "Try using .loc[row_indexer,col_indexer] = value instead\n",
      "\n",
      "See the caveats in the documentation: https://pandas.pydata.org/pandas-docs/stable/user_guide/indexing.html#returning-a-view-versus-a-copy\n",
      "  data['target'] = df['target']\n"
     ]
    }
   ],
   "source": [
    "df = pd.DataFrame({'daily_volatility': daily_volatility})\n",
    "# Create a new column based on the conditions\n",
    "df['target'] = np.where(df['daily_volatility'] > df['daily_volatility'].shift(1), 1, 0)\n",
    "\n",
    "df['target'].fillna(0, inplace=True)\n",
    "data['target'] = df['target']\n",
    "data_full = data.dropna()\n"
   ]
  },
  {
   "cell_type": "code",
   "execution_count": 13,
   "metadata": {},
   "outputs": [],
   "source": [
    "data_full = data_full[[\"Return_Squared\",\"Return\", \"Range\", \"Volume\",  \"EMAF\",  \"Daily Volatility\", \"target\"]]"
   ]
  },
  {
   "cell_type": "code",
   "execution_count": 14,
   "metadata": {},
   "outputs": [],
   "source": [
    "data_full.to_csv(r\"Intraday Volatility Dataset.csv\")"
   ]
  },
  {
   "cell_type": "code",
   "execution_count": null,
   "metadata": {},
   "outputs": [],
   "source": []
  }
 ],
 "metadata": {
  "kernelspec": {
   "display_name": "diss_model",
   "language": "python",
   "name": "diss_model"
  },
  "language_info": {
   "codemirror_mode": {
    "name": "ipython",
    "version": 3
   },
   "file_extension": ".py",
   "mimetype": "text/x-python",
   "name": "python",
   "nbconvert_exporter": "python",
   "pygments_lexer": "ipython3",
   "version": "3.9.15"
  }
 },
 "nbformat": 4,
 "nbformat_minor": 4
}
