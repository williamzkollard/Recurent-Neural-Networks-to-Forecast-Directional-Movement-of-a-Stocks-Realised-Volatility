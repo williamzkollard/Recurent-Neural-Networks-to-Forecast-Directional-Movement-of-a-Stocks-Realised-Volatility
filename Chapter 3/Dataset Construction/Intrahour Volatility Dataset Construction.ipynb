{
 "cells": [
  {
   "cell_type": "code",
   "execution_count": 1,
   "metadata": {},
   "outputs": [],
   "source": [
    "import numpy as np \n",
    "import pandas as pd\n",
    "from datetime import datetime"
   ]
  },
  {
   "cell_type": "code",
   "execution_count": 2,
   "metadata": {},
   "outputs": [],
   "source": [
    "data_1min = pd.read_csv('AAPL_full_1min_adjsplit.csv')\n",
    "data_1min.columns = ['Date', 'Open', 'High', 'Low', 'Close', 'Volume']\n",
    "data_1min['Date'] = pd.to_datetime(data_1min['Date'], format=\"%Y-%m-%d %H:%M:%S\")\n",
    "data_1hour = pd.read_csv('AAPL_full_1hour_adjsplit.csv')\n",
    "data_1hour.columns = ['Date', 'Open', 'High', 'Low', 'Close', 'Volume']\n",
    "data_1min[\"Minute Log Return\"] = np.log(data_1min['Close']).diff()"
   ]
  },
  {
   "cell_type": "code",
   "execution_count": 3,
   "metadata": {},
   "outputs": [],
   "source": [
    "#Creates a dataframe with columns \"Date\" and \"Intrahour Volatility\"\n",
    "\n",
    "def calculate_hourly_volatility(dataframe):\n",
    "\n",
    "    dataframe['Date'] = pd.to_datetime(dataframe['Date'], format=\"%Y-%m-%d %H:%M:%S\")    \n",
    "    date_log_return_df = dataframe[['Date', 'Minute Log Return']]\n",
    "    date_log_return_df.set_index('Date', inplace=True)  \n",
    "    hourly_volatility = date_log_return_df.resample('H').apply(lambda x: (x ** 2).sum(axis=0)).apply(lambda x: x ** 0.5)\n",
    "    hourly_volatility.reset_index(inplace=True)\n",
    "    hourly_volatility.columns = ['Date', 'Hourly_Volatility']\n",
    "\n",
    "    return hourly_volatility\n",
    "\n",
    "\n",
    "result_df = calculate_hourly_volatility(data_1min)"
   ]
  },
  {
   "cell_type": "code",
   "execution_count": 4,
   "metadata": {},
   "outputs": [],
   "source": [
    "#Checks that the volatility has been calculated for each data (i.e. the volatility will be greater than zero )\n",
    "\n",
    "def remove_zero_volatility(dataframe):\n",
    "\n",
    "   \n",
    "    filtered_dataframe = dataframe[dataframe['Hourly_Volatility'] != 0]\n",
    "    return filtered_dataframe\n",
    "\n",
    "newresults = remove_zero_volatility(result_df)"
   ]
  },
  {
   "cell_type": "code",
   "execution_count": 5,
   "metadata": {},
   "outputs": [
    {
     "name": "stderr",
     "output_type": "stream",
     "text": [
      "/var/folders/cb/9kkmszhd7fx9_93t2qb1_s640000gn/T/ipykernel_64652/1521965646.py:5: SettingWithCopyWarning: \n",
      "A value is trying to be set on a copy of a slice from a DataFrame.\n",
      "Try using .loc[row_indexer,col_indexer] = value instead\n",
      "\n",
      "See the caveats in the documentation: https://pandas.pydata.org/pandas-docs/stable/user_guide/indexing.html#returning-a-view-versus-a-copy\n",
      "  newresults['Date'] = pd.to_datetime(newresults['Date'])\n"
     ]
    }
   ],
   "source": [
    "#Only keeps the rows where the same dates occur in both dataframes\n",
    "\n",
    "def matching_dataframes_bydate(newresults, data_1hour):\n",
    "\n",
    "    newresults['Date'] = pd.to_datetime(newresults['Date'])\n",
    "    data_1hour['Date'] = pd.to_datetime(data_1hour['Date'])\n",
    "    common_dates = pd.merge(newresults[['Date']], data_1hour[['Date']], on='Date', how='inner') \n",
    "    newresults_sync = newresults[newresults['Date'].isin(common_dates['Date'])]\n",
    "    data_1hour_sync = data_1hour[data_1hour['Date'].isin(common_dates['Date'])]\n",
    "\n",
    "    return newresults_sync, data_1hour_sync\n",
    "\n",
    "newresults_sync, data_1hour_sync = matching_dataframes_bydate(newresults, data_1hour)\n"
   ]
  },
  {
   "cell_type": "code",
   "execution_count": 6,
   "metadata": {},
   "outputs": [
    {
     "name": "stderr",
     "output_type": "stream",
     "text": [
      "/var/folders/cb/9kkmszhd7fx9_93t2qb1_s640000gn/T/ipykernel_64652/2840956785.py:1: SettingWithCopyWarning: \n",
      "A value is trying to be set on a copy of a slice from a DataFrame.\n",
      "Try using .loc[row_indexer,col_indexer] = value instead\n",
      "\n",
      "See the caveats in the documentation: https://pandas.pydata.org/pandas-docs/stable/user_guide/indexing.html#returning-a-view-versus-a-copy\n",
      "  data_1hour_sync['Date'] = pd.to_datetime(data_1hour_sync['Date'])\n",
      "/var/folders/cb/9kkmszhd7fx9_93t2qb1_s640000gn/T/ipykernel_64652/2840956785.py:2: SettingWithCopyWarning: \n",
      "A value is trying to be set on a copy of a slice from a DataFrame.\n",
      "Try using .loc[row_indexer,col_indexer] = value instead\n",
      "\n",
      "See the caveats in the documentation: https://pandas.pydata.org/pandas-docs/stable/user_guide/indexing.html#returning-a-view-versus-a-copy\n",
      "  newresults_sync['Date'] = pd.to_datetime(newresults_sync['Date'])\n",
      "/var/folders/cb/9kkmszhd7fx9_93t2qb1_s640000gn/T/ipykernel_64652/2840956785.py:5: SettingWithCopyWarning: \n",
      "A value is trying to be set on a copy of a slice from a DataFrame.\n",
      "Try using .loc[row_indexer,col_indexer] = value instead\n",
      "\n",
      "See the caveats in the documentation: https://pandas.pydata.org/pandas-docs/stable/user_guide/indexing.html#returning-a-view-versus-a-copy\n",
      "  data_1hour_sync[\"Hourly Volatility\"] = newresults_sync[\"Hourly_Volatility\"]\n"
     ]
    }
   ],
   "source": [
    "data_1hour_sync['Date'] = pd.to_datetime(data_1hour_sync['Date'])\n",
    "newresults_sync['Date'] = pd.to_datetime(newresults_sync['Date'])\n",
    "data_1hour_sync.set_index('Date', inplace=True)\n",
    "newresults_sync.set_index('Date', inplace=True)\n",
    "data_1hour_sync[\"Hourly Volatility\"] = newresults_sync[\"Hourly_Volatility\"]"
   ]
  },
  {
   "cell_type": "code",
   "execution_count": 7,
   "metadata": {},
   "outputs": [
    {
     "name": "stderr",
     "output_type": "stream",
     "text": [
      "/var/folders/cb/9kkmszhd7fx9_93t2qb1_s640000gn/T/ipykernel_64652/2430649994.py:3: SettingWithCopyWarning: \n",
      "A value is trying to be set on a copy of a slice from a DataFrame.\n",
      "Try using .loc[row_indexer,col_indexer] = value instead\n",
      "\n",
      "See the caveats in the documentation: https://pandas.pydata.org/pandas-docs/stable/user_guide/indexing.html#returning-a-view-versus-a-copy\n",
      "  data_1hour_sync['Return'] = np.log(data_1hour_sync['Close']).diff()\n",
      "/var/folders/cb/9kkmszhd7fx9_93t2qb1_s640000gn/T/ipykernel_64652/2430649994.py:4: SettingWithCopyWarning: \n",
      "A value is trying to be set on a copy of a slice from a DataFrame.\n",
      "Try using .loc[row_indexer,col_indexer] = value instead\n",
      "\n",
      "See the caveats in the documentation: https://pandas.pydata.org/pandas-docs/stable/user_guide/indexing.html#returning-a-view-versus-a-copy\n",
      "  data_1hour_sync['Return_Squared'] = np.square(data_1hour_sync['Return'])\n"
     ]
    }
   ],
   "source": [
    "#Developing feature variables\n",
    "\n",
    "data_1hour_sync['Return'] = np.log(data_1hour_sync['Close']).diff()\n",
    "data_1hour_sync['Return_Squared'] = np.square(data_1hour_sync['Return'])\n",
    "data_1hour_sync = data_1hour_sync.dropna()"
   ]
  },
  {
   "cell_type": "code",
   "execution_count": 8,
   "metadata": {},
   "outputs": [
    {
     "name": "stdout",
     "output_type": "stream",
     "text": [
      "Requirement already satisfied: pandas_ta in /Users/williamkollard/anaconda3/envs/diss_model/lib/python3.9/site-packages (0.3.14b0)\n",
      "Requirement already satisfied: pandas in /Users/williamkollard/anaconda3/envs/diss_model/lib/python3.9/site-packages (from pandas_ta) (2.1.4)\n",
      "Requirement already satisfied: numpy<2,>=1.22.4 in /Users/williamkollard/anaconda3/envs/diss_model/lib/python3.9/site-packages (from pandas->pandas_ta) (1.23.5)\n",
      "Requirement already satisfied: python-dateutil>=2.8.2 in /Users/williamkollard/anaconda3/envs/diss_model/lib/python3.9/site-packages (from pandas->pandas_ta) (2.8.2)\n",
      "Requirement already satisfied: pytz>=2020.1 in /Users/williamkollard/anaconda3/envs/diss_model/lib/python3.9/site-packages (from pandas->pandas_ta) (2023.3.post1)\n",
      "Requirement already satisfied: tzdata>=2022.1 in /Users/williamkollard/anaconda3/envs/diss_model/lib/python3.9/site-packages (from pandas->pandas_ta) (2023.4)\n",
      "Requirement already satisfied: six>=1.5 in /Users/williamkollard/anaconda3/envs/diss_model/lib/python3.9/site-packages (from python-dateutil>=2.8.2->pandas->pandas_ta) (1.15.0)\n",
      "Note: you may need to restart the kernel to use updated packages.\n"
     ]
    }
   ],
   "source": [
    "pip install pandas_ta"
   ]
  },
  {
   "cell_type": "code",
   "execution_count": 9,
   "metadata": {},
   "outputs": [],
   "source": [
    "#Developing target variable\n",
    "\n",
    "data = data_1hour_sync.dropna()\n",
    "hourly_volatility = data[\"Hourly Volatility\"]\n",
    "df = pd.DataFrame({'hourly_volatility': hourly_volatility})\n",
    "df['target'] = np.where(df['hourly_volatility'] > df['hourly_volatility'].shift(1), 1, 0)\n",
    "df['target'].fillna(0, inplace=True)\n",
    "data['target'] = df['target']\n",
    "data_full = data.dropna()\n",
    "data_full = data_full[[\"Return_Squared\", \"Hourly Volatility\", \"target\"]]"
   ]
  },
  {
   "cell_type": "code",
   "execution_count": 10,
   "metadata": {},
   "outputs": [
    {
     "data": {
      "text/html": [
       "<div>\n",
       "<style scoped>\n",
       "    .dataframe tbody tr th:only-of-type {\n",
       "        vertical-align: middle;\n",
       "    }\n",
       "\n",
       "    .dataframe tbody tr th {\n",
       "        vertical-align: top;\n",
       "    }\n",
       "\n",
       "    .dataframe thead th {\n",
       "        text-align: right;\n",
       "    }\n",
       "</style>\n",
       "<table border=\"1\" class=\"dataframe\">\n",
       "  <thead>\n",
       "    <tr style=\"text-align: right;\">\n",
       "      <th></th>\n",
       "      <th>Return_Squared</th>\n",
       "      <th>Hourly Volatility</th>\n",
       "      <th>target</th>\n",
       "    </tr>\n",
       "    <tr>\n",
       "      <th>Date</th>\n",
       "      <th></th>\n",
       "      <th></th>\n",
       "      <th></th>\n",
       "    </tr>\n",
       "  </thead>\n",
       "  <tbody>\n",
       "    <tr>\n",
       "      <th>2005-01-03 10:00:00</th>\n",
       "      <td>6.472128e-05</td>\n",
       "      <td>0.010737</td>\n",
       "      <td>0</td>\n",
       "    </tr>\n",
       "    <tr>\n",
       "      <th>2005-01-03 11:00:00</th>\n",
       "      <td>1.807573e-05</td>\n",
       "      <td>0.005680</td>\n",
       "      <td>0</td>\n",
       "    </tr>\n",
       "    <tr>\n",
       "      <th>2005-01-03 12:00:00</th>\n",
       "      <td>9.003721e-06</td>\n",
       "      <td>0.004975</td>\n",
       "      <td>0</td>\n",
       "    </tr>\n",
       "    <tr>\n",
       "      <th>2005-01-03 13:00:00</th>\n",
       "      <td>6.771714e-05</td>\n",
       "      <td>0.005507</td>\n",
       "      <td>1</td>\n",
       "    </tr>\n",
       "    <tr>\n",
       "      <th>2005-01-03 14:00:00</th>\n",
       "      <td>1.887182e-05</td>\n",
       "      <td>0.005832</td>\n",
       "      <td>1</td>\n",
       "    </tr>\n",
       "    <tr>\n",
       "      <th>...</th>\n",
       "      <td>...</td>\n",
       "      <td>...</td>\n",
       "      <td>...</td>\n",
       "    </tr>\n",
       "    <tr>\n",
       "      <th>2024-01-19 15:00:00</th>\n",
       "      <td>1.334557e-07</td>\n",
       "      <td>0.002568</td>\n",
       "      <td>0</td>\n",
       "    </tr>\n",
       "    <tr>\n",
       "      <th>2024-01-19 16:00:00</th>\n",
       "      <td>2.452507e-08</td>\n",
       "      <td>0.001404</td>\n",
       "      <td>0</td>\n",
       "    </tr>\n",
       "    <tr>\n",
       "      <th>2024-01-19 17:00:00</th>\n",
       "      <td>5.345758e-07</td>\n",
       "      <td>0.000931</td>\n",
       "      <td>0</td>\n",
       "    </tr>\n",
       "    <tr>\n",
       "      <th>2024-01-19 18:00:00</th>\n",
       "      <td>3.932834e-07</td>\n",
       "      <td>0.001222</td>\n",
       "      <td>1</td>\n",
       "    </tr>\n",
       "    <tr>\n",
       "      <th>2024-01-19 19:00:00</th>\n",
       "      <td>1.093025e-08</td>\n",
       "      <td>0.001477</td>\n",
       "      <td>1</td>\n",
       "    </tr>\n",
       "  </tbody>\n",
       "</table>\n",
       "<p>71963 rows × 3 columns</p>\n",
       "</div>"
      ],
      "text/plain": [
       "                     Return_Squared  Hourly Volatility  target\n",
       "Date                                                          \n",
       "2005-01-03 10:00:00    6.472128e-05           0.010737       0\n",
       "2005-01-03 11:00:00    1.807573e-05           0.005680       0\n",
       "2005-01-03 12:00:00    9.003721e-06           0.004975       0\n",
       "2005-01-03 13:00:00    6.771714e-05           0.005507       1\n",
       "2005-01-03 14:00:00    1.887182e-05           0.005832       1\n",
       "...                             ...                ...     ...\n",
       "2024-01-19 15:00:00    1.334557e-07           0.002568       0\n",
       "2024-01-19 16:00:00    2.452507e-08           0.001404       0\n",
       "2024-01-19 17:00:00    5.345758e-07           0.000931       0\n",
       "2024-01-19 18:00:00    3.932834e-07           0.001222       1\n",
       "2024-01-19 19:00:00    1.093025e-08           0.001477       1\n",
       "\n",
       "[71963 rows x 3 columns]"
      ]
     },
     "execution_count": 10,
     "metadata": {},
     "output_type": "execute_result"
    }
   ],
   "source": [
    "data_full"
   ]
  },
  {
   "cell_type": "code",
   "execution_count": 33,
   "metadata": {},
   "outputs": [],
   "source": [
    "data_full.to_csv(r\"Intrahour Volatility Dataset.csv\")"
   ]
  }
 ],
 "metadata": {
  "kernelspec": {
   "display_name": "diss_model",
   "language": "python",
   "name": "diss_model"
  },
  "language_info": {
   "codemirror_mode": {
    "name": "ipython",
    "version": 3
   },
   "file_extension": ".py",
   "mimetype": "text/x-python",
   "name": "python",
   "nbconvert_exporter": "python",
   "pygments_lexer": "ipython3",
   "version": "3.9.15"
  }
 },
 "nbformat": 4,
 "nbformat_minor": 4
}
