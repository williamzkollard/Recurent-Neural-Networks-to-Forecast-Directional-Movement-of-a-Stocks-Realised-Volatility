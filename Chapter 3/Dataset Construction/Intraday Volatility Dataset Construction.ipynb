{
 "cells": [
  {
   "cell_type": "code",
   "execution_count": 39,
   "metadata": {},
   "outputs": [],
   "source": [
    "import numpy as np \n",
    "import pandas as pd\n",
    "from datetime import datetime"
   ]
  },
  {
   "cell_type": "code",
   "execution_count": 40,
   "metadata": {},
   "outputs": [],
   "source": [
    "data_1hour = pd.read_csv('AAPL_full_1hour_adjsplit.csv')\n",
    "data_1hour.columns = ['Date', 'Open', 'High', 'Low', 'Close', 'Volume']\n",
    "data_1day = pd.read_csv('AAPL_full_1day_adjsplit.csv')\n",
    "data_1day.columns = ['Date', 'Open', 'High', 'Low', 'Close', 'Volume']\n",
    "data_1hour_dropped = data_1hour.drop([0,1,2,3,4,5,6,7,8,9], axis =0)\n",
    "data_1hour_dropped = pd.DataFrame(data_1hour_dropped)\n",
    "data_1hour_dropped['Date'] = pd.to_datetime(data_1hour_dropped['Date'], format=\"%Y-%m-%d %H:%M:%S\")\n",
    "data_1hour_dropped[\"Hourly Log Return\"] = np.log(data_1hour_dropped['Close']).diff()"
   ]
  },
  {
   "cell_type": "code",
   "execution_count": 41,
   "metadata": {},
   "outputs": [
    {
     "name": "stderr",
     "output_type": "stream",
     "text": [
      "/var/folders/cb/9kkmszhd7fx9_93t2qb1_s640000gn/T/ipykernel_64382/886415476.py:8: RuntimeWarning: invalid value encountered in double_scalars\n",
      "  intraday_volatility = date_log_return_df.resample('D').apply(lambda x: (x ** 2).sum(axis=0) / x.notna().sum(axis=0)).apply(lambda x: x ** 0.5)\n"
     ]
    }
   ],
   "source": [
    "#Creates a dataframe with columns \"Date\" and \"Intraday Volatility\"\n",
    "\n",
    "def calculate_intraday_volatility(dataframe):\n",
    "\n",
    "    dataframe['Date'] = pd.to_datetime(dataframe['Date'], format=\"%Y-%m-%d %H:%M:%S\")\n",
    "    date_log_return_df = dataframe[['Date', 'Hourly Log Return']]\n",
    "    date_log_return_df.set_index('Date', inplace=True)\n",
    "    intraday_volatility = date_log_return_df.resample('D').apply(lambda x: (x ** 2).sum(axis=0) / x.notna().sum(axis=0)).apply(lambda x: x ** 0.5)\n",
    "    intraday_volatility.reset_index(inplace=True)\n",
    "    intraday_volatility.columns = ['Date', 'Intraday_Volatility']\n",
    "\n",
    "    return intraday_volatility\n",
    "\n",
    "result_df = calculate_intraday_volatility(data_1hour_dropped)"
   ]
  },
  {
   "cell_type": "code",
   "execution_count": 42,
   "metadata": {},
   "outputs": [],
   "source": [
    "#Checks that the volatility has been calculated for each data (i.e. the volatility will be greater than zero )\n",
    "\n",
    "def remove_zero_volatility(dataframe):\n",
    "\n",
    "    filtered_dataframe = dataframe[dataframe['Intraday_Volatility'] != 0]\n",
    "    return filtered_dataframe\n",
    "\n",
    "newresults = remove_zero_volatility(result_df)\n"
   ]
  },
  {
   "cell_type": "code",
   "execution_count": 43,
   "metadata": {},
   "outputs": [],
   "source": [
    "#Developing feature variables\n",
    "\n",
    "data_1day['Date'] = pd.to_datetime(data_1day['Date'])\n",
    "newresults['Date'] = pd.to_datetime(newresults['Date'])\n",
    "data_1day.set_index('Date', inplace=True)\n",
    "newresults.set_index('Date', inplace=True)\n",
    "data_1day[\"Daily Volatility\"] = newresults[\"Intraday_Volatility\"]\n",
    "data_1day['Range'] = data_1day['High'] - data_1day['Low']\n",
    "data_1day['Return'] = np.log(data_1day['Close']).diff()\n",
    "data_1day['Return_Squared'] = np.square(data_1day['Return'])\n",
    "data_1day = data_1day.dropna()"
   ]
  },
  {
   "cell_type": "code",
   "execution_count": 44,
   "metadata": {},
   "outputs": [
    {
     "name": "stdout",
     "output_type": "stream",
     "text": [
      "Requirement already satisfied: pandas_ta in /Users/williamkollard/anaconda3/envs/diss_model/lib/python3.9/site-packages (0.3.14b0)\n",
      "Requirement already satisfied: pandas in /Users/williamkollard/anaconda3/envs/diss_model/lib/python3.9/site-packages (from pandas_ta) (2.1.4)\n",
      "Requirement already satisfied: numpy<2,>=1.22.4 in /Users/williamkollard/anaconda3/envs/diss_model/lib/python3.9/site-packages (from pandas->pandas_ta) (1.23.5)\n",
      "Requirement already satisfied: python-dateutil>=2.8.2 in /Users/williamkollard/anaconda3/envs/diss_model/lib/python3.9/site-packages (from pandas->pandas_ta) (2.8.2)\n",
      "Requirement already satisfied: pytz>=2020.1 in /Users/williamkollard/anaconda3/envs/diss_model/lib/python3.9/site-packages (from pandas->pandas_ta) (2023.3.post1)\n",
      "Requirement already satisfied: tzdata>=2022.1 in /Users/williamkollard/anaconda3/envs/diss_model/lib/python3.9/site-packages (from pandas->pandas_ta) (2023.4)\n",
      "Requirement already satisfied: six>=1.5 in /Users/williamkollard/anaconda3/envs/diss_model/lib/python3.9/site-packages (from python-dateutil>=2.8.2->pandas->pandas_ta) (1.15.0)\n",
      "Note: you may need to restart the kernel to use updated packages.\n"
     ]
    }
   ],
   "source": [
    "pip install pandas_ta"
   ]
  },
  {
   "cell_type": "code",
   "execution_count": 45,
   "metadata": {},
   "outputs": [
    {
     "name": "stderr",
     "output_type": "stream",
     "text": [
      "[*********************100%%**********************]  1 of 1 completed\n"
     ]
    }
   ],
   "source": [
    "#Obtaining EMAF feature\n",
    "\n",
    "import yfinance as yf\n",
    "import pandas_ta as ta\n",
    "data = yf.download(tickers = 'AAPL', start = '2005-01-05', end = '2024-01-20')\n",
    "data['EMAF'] = ta.ema(data.Close, length = 20)\n",
    "data_1day[\"EMAF\"] = data[\"EMAF\"]\n",
    "data = data_1day.dropna()\n",
    "daily_volatility = data[\"Daily Volatility\"]"
   ]
  },
  {
   "cell_type": "code",
   "execution_count": 46,
   "metadata": {},
   "outputs": [
    {
     "name": "stderr",
     "output_type": "stream",
     "text": [
      "/var/folders/cb/9kkmszhd7fx9_93t2qb1_s640000gn/T/ipykernel_64382/694950117.py:2: FutureWarning: Series.__getitem__ treating keys as positions is deprecated. In a future version, integer keys will always be treated as labels (consistent with DataFrame behavior). To access a value by position, use `ser.iloc[pos]`\n",
      "  target = [1 if daily_volatility[i] > daily_volatility[i - 1] else -1 for i in range(1, len(daily_volatility))]\n",
      "/var/folders/cb/9kkmszhd7fx9_93t2qb1_s640000gn/T/ipykernel_64382/694950117.py:7: SettingWithCopyWarning: \n",
      "A value is trying to be set on a copy of a slice from a DataFrame.\n",
      "Try using .loc[row_indexer,col_indexer] = value instead\n",
      "\n",
      "See the caveats in the documentation: https://pandas.pydata.org/pandas-docs/stable/user_guide/indexing.html#returning-a-view-versus-a-copy\n",
      "  data['target'] = df['target']\n"
     ]
    }
   ],
   "source": [
    "#Making target variable\n",
    "target = [1 if daily_volatility[i] > daily_volatility[i - 1] else -1 for i in range(1, len(daily_volatility))]\n",
    "target = [0] + target\n",
    "df = pd.DataFrame({'daily_volatility': daily_volatility})\n",
    "df['target'] = np.where(df['daily_volatility'] > df['daily_volatility'].shift(1), 1, 0)\n",
    "df['target'].fillna(0, inplace=True)\n",
    "data['target'] = df['target']\n",
    "data_full = data.dropna()"
   ]
  },
  {
   "cell_type": "code",
   "execution_count": 47,
   "metadata": {},
   "outputs": [],
   "source": [
    "#Final dataset\n",
    "data_full = data_full[[\"Return_Squared\",\"Return\", \"Range\", \"Volume\",  \"EMAF\",  \"Daily Volatility\", \"target\"]]"
   ]
  },
  {
   "cell_type": "code",
   "execution_count": null,
   "metadata": {},
   "outputs": [],
   "source": [
    "data_full.to_csv(r\"Intraday Volatility Dataset.csv\")"
   ]
  }
 ],
 "metadata": {
  "kernelspec": {
   "display_name": "diss_model",
   "language": "python",
   "name": "diss_model"
  },
  "language_info": {
   "codemirror_mode": {
    "name": "ipython",
    "version": 3
   },
   "file_extension": ".py",
   "mimetype": "text/x-python",
   "name": "python",
   "nbconvert_exporter": "python",
   "pygments_lexer": "ipython3",
   "version": "3.9.15"
  }
 },
 "nbformat": 4,
 "nbformat_minor": 4
}
