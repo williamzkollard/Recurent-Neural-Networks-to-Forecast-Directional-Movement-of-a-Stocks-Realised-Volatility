{
 "cells": [
  {
   "cell_type": "code",
   "execution_count": 15,
   "metadata": {},
   "outputs": [],
   "source": [
    "import numpy as np \n",
    "import pandas as pd\n",
    "from datetime import datetime"
   ]
  },
  {
   "cell_type": "code",
   "execution_count": 16,
   "metadata": {},
   "outputs": [],
   "source": [
    "data_1hour = pd.read_csv('AAPL_full_1hour_adjsplit.csv')\n",
    "data_1hour.columns = ['Date', 'Open', 'High', 'Low', 'Close', 'Volume']\n",
    "data_1day = pd.read_csv('AAPL_full_1day_adjsplit.csv')\n",
    "data_1day.columns = ['Date', 'Open', 'High', 'Low', 'Close', 'Volume']\n",
    "data_1hour_dropped = data_1hour.drop([0,1,2,3,4,5,6,7,8,9], axis =0)\n",
    "data_1hour_dropped = pd.DataFrame(data_1hour_dropped)\n",
    "data_1hour_dropped['Date'] = pd.to_datetime(data_1hour_dropped['Date'], format=\"%Y-%m-%d %H:%M:%S\")\n",
    "data_1hour_dropped[\"Hourly Log Return\"] = np.log(data_1hour_dropped['Close']).diff()"
   ]
  },
  {
   "cell_type": "code",
   "execution_count": 17,
   "metadata": {},
   "outputs": [
    {
     "name": "stderr",
     "output_type": "stream",
     "text": [
      "/var/folders/cb/9kkmszhd7fx9_93t2qb1_s640000gn/T/ipykernel_46292/1216246990.py:10: RuntimeWarning: invalid value encountered in double_scalars\n",
      "  intraday_volatility = date_log_return_df.resample('D').apply(lambda x: (x ** 2).sum(axis=0) / x.notna().sum(axis=0)).apply(lambda x: x ** 0.5)\n"
     ]
    }
   ],
   "source": [
    "def calculate_intraday_volatility(dataframe):\n",
    "\n",
    "    if 'Date' in dataframe.columns:\n",
    "        dataframe['Date'] = pd.to_datetime(dataframe['Date'], format=\"%Y-%m-%d %H:%M:%S\")\n",
    "\n",
    "    date_log_return_df = dataframe[['Date', 'Hourly Log Return']]\n",
    "\n",
    "    date_log_return_df.set_index('Date', inplace=True)\n",
    "   \n",
    "    intraday_volatility = date_log_return_df.resample('D').apply(lambda x: (x ** 2).sum(axis=0) / x.notna().sum(axis=0)).apply(lambda x: x ** 0.5)\n",
    "\n",
    "    intraday_volatility.reset_index(inplace=True)\n",
    "\n",
    "    intraday_volatility.columns = ['Date', 'Intraday_Volatility']\n",
    "\n",
    "    return intraday_volatility\n",
    "\n",
    "result_df = calculate_intraday_volatility(data_1hour_dropped)\n"
   ]
  },
  {
   "cell_type": "code",
   "execution_count": 18,
   "metadata": {},
   "outputs": [],
   "source": [
    "def remove_zero_volatility(dataframe):\n",
    "\n",
    "    filtered_dataframe = dataframe[dataframe['Intraday_Volatility'] != 0]\n",
    "\n",
    "    return filtered_dataframe\n",
    "\n",
    "newresults = remove_zero_volatility(result_df)\n"
   ]
  },
  {
   "cell_type": "code",
   "execution_count": 19,
   "metadata": {
    "scrolled": true
   },
   "outputs": [],
   "source": [
    "def find_dates_not_in_both(series1, series2):\n",
    "\n",
    "    dates_not_in_series1 = series1[~series1.isin(series2)]\n",
    "    dates_not_in_series2 = series2[~series2.isin(series1)]\n",
    "\n",
    "series1 = data_1day[\"Date\"]\n",
    "series2 = newresults[\"Date\"]\n",
    "\n",
    "find_dates_not_in_both(series1, series2)"
   ]
  },
  {
   "cell_type": "code",
   "execution_count": 20,
   "metadata": {},
   "outputs": [],
   "source": [
    "newresults2 = newresults.drop(newresults[newresults['Date'] == \"2023-09-19\"].index)"
   ]
  },
  {
   "cell_type": "code",
   "execution_count": 21,
   "metadata": {},
   "outputs": [],
   "source": [
    "data_1day['Date'] = pd.to_datetime(data_1day['Date'])\n",
    "newresults2['Date'] = pd.to_datetime(newresults2['Date'])\n",
    "data_1day.set_index('Date', inplace=True)\n",
    "newresults2.set_index('Date', inplace=True)"
   ]
  },
  {
   "cell_type": "code",
   "execution_count": 22,
   "metadata": {},
   "outputs": [],
   "source": [
    "data_1day[\"Daily Volatility\"] = newresults2[\"Intraday_Volatility\"]\n",
    "data_1day['Range'] = data_1day['High'] - data_1day['Low']\n",
    "data_1day['Return'] = np.log(data_1day['Close']).diff()\n",
    "data_1day['Return_Squared'] = np.square(data_1day['Return'])\n",
    "data_1day = data_1day.dropna()"
   ]
  },
  {
   "cell_type": "code",
   "execution_count": 23,
   "metadata": {},
   "outputs": [
    {
     "name": "stdout",
     "output_type": "stream",
     "text": [
      "Requirement already satisfied: pandas_ta in /Users/williamkollard/anaconda3/envs/diss_model/lib/python3.9/site-packages (0.3.14b0)\n",
      "Requirement already satisfied: pandas in /Users/williamkollard/anaconda3/envs/diss_model/lib/python3.9/site-packages (from pandas_ta) (2.1.4)\n",
      "Requirement already satisfied: numpy<2,>=1.22.4 in /Users/williamkollard/anaconda3/envs/diss_model/lib/python3.9/site-packages (from pandas->pandas_ta) (1.23.5)\n",
      "Requirement already satisfied: python-dateutil>=2.8.2 in /Users/williamkollard/anaconda3/envs/diss_model/lib/python3.9/site-packages (from pandas->pandas_ta) (2.8.2)\n",
      "Requirement already satisfied: pytz>=2020.1 in /Users/williamkollard/anaconda3/envs/diss_model/lib/python3.9/site-packages (from pandas->pandas_ta) (2023.3.post1)\n",
      "Requirement already satisfied: tzdata>=2022.1 in /Users/williamkollard/anaconda3/envs/diss_model/lib/python3.9/site-packages (from pandas->pandas_ta) (2023.4)\n",
      "Requirement already satisfied: six>=1.5 in /Users/williamkollard/anaconda3/envs/diss_model/lib/python3.9/site-packages (from python-dateutil>=2.8.2->pandas->pandas_ta) (1.15.0)\n",
      "Note: you may need to restart the kernel to use updated packages.\n"
     ]
    }
   ],
   "source": [
    "pip install pandas_ta"
   ]
  },
  {
   "cell_type": "code",
   "execution_count": 24,
   "metadata": {},
   "outputs": [
    {
     "name": "stderr",
     "output_type": "stream",
     "text": [
      "[*********************100%%**********************]  1 of 1 completed\n"
     ]
    }
   ],
   "source": [
    "import yfinance as yf\n",
    "import pandas_ta as ta\n",
    "data = yf.download(tickers = 'AAPL', start = '2005-01-05', end = '2024-01-20')\n",
    "data['EMAF'] = ta.ema(data.Close, length = 20)\n",
    "data_1day[\"EMAF\"] = data[\"EMAF\"]\n",
    "data = data_1day.dropna()\n",
    "daily_volatility = data[\"Daily Volatility\"]"
   ]
  },
  {
   "cell_type": "code",
   "execution_count": 25,
   "metadata": {},
   "outputs": [
    {
     "name": "stderr",
     "output_type": "stream",
     "text": [
      "/var/folders/cb/9kkmszhd7fx9_93t2qb1_s640000gn/T/ipykernel_46292/4277351889.py:1: FutureWarning: Series.__getitem__ treating keys as positions is deprecated. In a future version, integer keys will always be treated as labels (consistent with DataFrame behavior). To access a value by position, use `ser.iloc[pos]`\n",
      "  target = [1 if daily_volatility[i] > daily_volatility[i - 1] else -1 for i in range(1, len(daily_volatility))]\n"
     ]
    }
   ],
   "source": [
    "target = [1 if daily_volatility[i] > daily_volatility[i - 1] else -1 for i in range(1, len(daily_volatility))]\n",
    "target = [0] + target"
   ]
  },
  {
   "cell_type": "code",
   "execution_count": 26,
   "metadata": {},
   "outputs": [
    {
     "name": "stderr",
     "output_type": "stream",
     "text": [
      "/var/folders/cb/9kkmszhd7fx9_93t2qb1_s640000gn/T/ipykernel_46292/1836751241.py:4: SettingWithCopyWarning: \n",
      "A value is trying to be set on a copy of a slice from a DataFrame.\n",
      "Try using .loc[row_indexer,col_indexer] = value instead\n",
      "\n",
      "See the caveats in the documentation: https://pandas.pydata.org/pandas-docs/stable/user_guide/indexing.html#returning-a-view-versus-a-copy\n",
      "  data['target'] = df['target']\n"
     ]
    }
   ],
   "source": [
    "df = pd.DataFrame({'daily_volatility': daily_volatility})\n",
    "df['target'] = np.where(df['daily_volatility'] > df['daily_volatility'].shift(1), 1, 0)\n",
    "df['target'].fillna(0, inplace=True)\n",
    "data['target'] = df['target']\n",
    "data_full = data.dropna()\n"
   ]
  },
  {
   "cell_type": "code",
   "execution_count": 27,
   "metadata": {},
   "outputs": [],
   "source": [
    "data_full = data_full[[\"Return_Squared\",\"Return\", \"Range\", \"Volume\",  \"EMAF\",  \"Daily Volatility\", \"target\"]]"
   ]
  },
  {
   "cell_type": "code",
   "execution_count": 28,
   "metadata": {},
   "outputs": [
    {
     "data": {
      "text/html": [
       "<div>\n",
       "<style scoped>\n",
       "    .dataframe tbody tr th:only-of-type {\n",
       "        vertical-align: middle;\n",
       "    }\n",
       "\n",
       "    .dataframe tbody tr th {\n",
       "        vertical-align: top;\n",
       "    }\n",
       "\n",
       "    .dataframe thead th {\n",
       "        text-align: right;\n",
       "    }\n",
       "</style>\n",
       "<table border=\"1\" class=\"dataframe\">\n",
       "  <thead>\n",
       "    <tr style=\"text-align: right;\">\n",
       "      <th></th>\n",
       "      <th>Return_Squared</th>\n",
       "      <th>Return</th>\n",
       "      <th>Range</th>\n",
       "      <th>Volume</th>\n",
       "      <th>EMAF</th>\n",
       "      <th>Daily Volatility</th>\n",
       "      <th>target</th>\n",
       "    </tr>\n",
       "    <tr>\n",
       "      <th>Date</th>\n",
       "      <th></th>\n",
       "      <th></th>\n",
       "      <th></th>\n",
       "      <th></th>\n",
       "      <th></th>\n",
       "      <th></th>\n",
       "      <th></th>\n",
       "    </tr>\n",
       "  </thead>\n",
       "  <tbody>\n",
       "    <tr>\n",
       "      <th>2005-02-02</th>\n",
       "      <td>0.000714</td>\n",
       "      <td>0.026725</td>\n",
       "      <td>0.0397</td>\n",
       "      <td>1024582888</td>\n",
       "      <td>1.262946</td>\n",
       "      <td>0.007372</td>\n",
       "      <td>0</td>\n",
       "    </tr>\n",
       "    <tr>\n",
       "      <th>2005-02-03</th>\n",
       "      <td>0.000535</td>\n",
       "      <td>-0.023120</td>\n",
       "      <td>0.0375</td>\n",
       "      <td>732986296</td>\n",
       "      <td>1.274996</td>\n",
       "      <td>0.004307</td>\n",
       "      <td>0</td>\n",
       "    </tr>\n",
       "    <tr>\n",
       "      <th>2005-02-04</th>\n",
       "      <td>0.000173</td>\n",
       "      <td>0.013155</td>\n",
       "      <td>0.0250</td>\n",
       "      <td>563683400</td>\n",
       "      <td>1.287649</td>\n",
       "      <td>0.003966</td>\n",
       "      <td>0</td>\n",
       "    </tr>\n",
       "    <tr>\n",
       "      <th>2005-02-07</th>\n",
       "      <td>0.000001</td>\n",
       "      <td>0.001207</td>\n",
       "      <td>0.0331</td>\n",
       "      <td>526396528</td>\n",
       "      <td>1.299268</td>\n",
       "      <td>0.005254</td>\n",
       "      <td>1</td>\n",
       "    </tr>\n",
       "    <tr>\n",
       "      <th>2005-02-08</th>\n",
       "      <td>0.000602</td>\n",
       "      <td>0.024526</td>\n",
       "      <td>0.0462</td>\n",
       "      <td>889647080</td>\n",
       "      <td>1.313113</td>\n",
       "      <td>0.005591</td>\n",
       "      <td>1</td>\n",
       "    </tr>\n",
       "    <tr>\n",
       "      <th>...</th>\n",
       "      <td>...</td>\n",
       "      <td>...</td>\n",
       "      <td>...</td>\n",
       "      <td>...</td>\n",
       "      <td>...</td>\n",
       "      <td>...</td>\n",
       "      <td>...</td>\n",
       "    </tr>\n",
       "    <tr>\n",
       "      <th>2024-01-12</th>\n",
       "      <td>0.000003</td>\n",
       "      <td>0.001777</td>\n",
       "      <td>1.5500</td>\n",
       "      <td>39664356</td>\n",
       "      <td>188.235134</td>\n",
       "      <td>0.001663</td>\n",
       "      <td>0</td>\n",
       "    </tr>\n",
       "    <tr>\n",
       "      <th>2024-01-16</th>\n",
       "      <td>0.000154</td>\n",
       "      <td>-0.012394</td>\n",
       "      <td>3.3260</td>\n",
       "      <td>63297662</td>\n",
       "      <td>187.796550</td>\n",
       "      <td>0.005651</td>\n",
       "      <td>1</td>\n",
       "    </tr>\n",
       "    <tr>\n",
       "      <th>2024-01-17</th>\n",
       "      <td>0.000027</td>\n",
       "      <td>-0.005187</td>\n",
       "      <td>2.6300</td>\n",
       "      <td>46287491</td>\n",
       "      <td>187.309259</td>\n",
       "      <td>0.002445</td>\n",
       "      <td>0</td>\n",
       "    </tr>\n",
       "    <tr>\n",
       "      <th>2024-01-18</th>\n",
       "      <td>0.001027</td>\n",
       "      <td>0.032051</td>\n",
       "      <td>3.3100</td>\n",
       "      <td>75770704</td>\n",
       "      <td>187.435044</td>\n",
       "      <td>0.005734</td>\n",
       "      <td>1</td>\n",
       "    </tr>\n",
       "    <tr>\n",
       "      <th>2024-01-19</th>\n",
       "      <td>0.000238</td>\n",
       "      <td>0.015414</td>\n",
       "      <td>3.1300</td>\n",
       "      <td>65993030</td>\n",
       "      <td>187.827897</td>\n",
       "      <td>0.002418</td>\n",
       "      <td>0</td>\n",
       "    </tr>\n",
       "  </tbody>\n",
       "</table>\n",
       "<p>4772 rows × 7 columns</p>\n",
       "</div>"
      ],
      "text/plain": [
       "            Return_Squared    Return   Range      Volume        EMAF  \\\n",
       "Date                                                                   \n",
       "2005-02-02        0.000714  0.026725  0.0397  1024582888    1.262946   \n",
       "2005-02-03        0.000535 -0.023120  0.0375   732986296    1.274996   \n",
       "2005-02-04        0.000173  0.013155  0.0250   563683400    1.287649   \n",
       "2005-02-07        0.000001  0.001207  0.0331   526396528    1.299268   \n",
       "2005-02-08        0.000602  0.024526  0.0462   889647080    1.313113   \n",
       "...                    ...       ...     ...         ...         ...   \n",
       "2024-01-12        0.000003  0.001777  1.5500    39664356  188.235134   \n",
       "2024-01-16        0.000154 -0.012394  3.3260    63297662  187.796550   \n",
       "2024-01-17        0.000027 -0.005187  2.6300    46287491  187.309259   \n",
       "2024-01-18        0.001027  0.032051  3.3100    75770704  187.435044   \n",
       "2024-01-19        0.000238  0.015414  3.1300    65993030  187.827897   \n",
       "\n",
       "            Daily Volatility  target  \n",
       "Date                                  \n",
       "2005-02-02          0.007372       0  \n",
       "2005-02-03          0.004307       0  \n",
       "2005-02-04          0.003966       0  \n",
       "2005-02-07          0.005254       1  \n",
       "2005-02-08          0.005591       1  \n",
       "...                      ...     ...  \n",
       "2024-01-12          0.001663       0  \n",
       "2024-01-16          0.005651       1  \n",
       "2024-01-17          0.002445       0  \n",
       "2024-01-18          0.005734       1  \n",
       "2024-01-19          0.002418       0  \n",
       "\n",
       "[4772 rows x 7 columns]"
      ]
     },
     "execution_count": 28,
     "metadata": {},
     "output_type": "execute_result"
    }
   ],
   "source": [
    "data_full"
   ]
  },
  {
   "cell_type": "code",
   "execution_count": 29,
   "metadata": {},
   "outputs": [],
   "source": [
    "data_full.to_csv(r\"Intraday Volatility Dataset.csv\")"
   ]
  },
  {
   "cell_type": "code",
   "execution_count": null,
   "metadata": {},
   "outputs": [],
   "source": []
  }
 ],
 "metadata": {
  "kernelspec": {
   "display_name": "diss_model",
   "language": "python",
   "name": "diss_model"
  },
  "language_info": {
   "codemirror_mode": {
    "name": "ipython",
    "version": 3
   },
   "file_extension": ".py",
   "mimetype": "text/x-python",
   "name": "python",
   "nbconvert_exporter": "python",
   "pygments_lexer": "ipython3",
   "version": "3.9.15"
  }
 },
 "nbformat": 4,
 "nbformat_minor": 4
}
