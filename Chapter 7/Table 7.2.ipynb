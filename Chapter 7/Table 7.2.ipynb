{
 "cells": [
  {
   "cell_type": "code",
   "execution_count": 2,
   "metadata": {},
   "outputs": [],
   "source": [
    "import pandas as pd\n",
    "import pandas as pd \n",
    "import numpy as np\n",
    "import matplotlib.pyplot as plt\n",
    "import tensorflow as tf\n",
    "from tensorflow.keras import layers\n",
    "from tensorflow.keras.models import Sequential\n",
    "from tensorflow.keras.layers import Dense, Dropout, LSTM, Input, Activation, GRU, concatenate, Bidirectional \n",
    "from keras import Model\n",
    "from keras import optimizers\n",
    "from tensorflow import keras"
   ]
  },
  {
   "cell_type": "code",
   "execution_count": 3,
   "metadata": {},
   "outputs": [],
   "source": [
    "data_full = pd.read_csv('Intraday Volatility Dataset.csv')"
   ]
  },
  {
   "cell_type": "code",
   "execution_count": 4,
   "metadata": {},
   "outputs": [],
   "source": [
    "X = data_full[[\"Volume\", \"Return\", \"Return_Squared\", \"EMAF\", \"Daily Volatility\"]]\n",
    "Y = data_full[\"target\"]\n",
    "data_set = data_full[[\"Volume\", \"Return\", \"Return_Squared\", \"EMAF\", \"Daily Volatility\", \"target\"]]"
   ]
  },
  {
   "cell_type": "code",
   "execution_count": 5,
   "metadata": {},
   "outputs": [],
   "source": [
    "splitlimit = int(len(data_set)*0.8)\n",
    "training_features, test_data = data_set[:splitlimit], data_set[splitlimit:]"
   ]
  },
  {
   "cell_type": "code",
   "execution_count": 6,
   "metadata": {},
   "outputs": [
    {
     "name": "stderr",
     "output_type": "stream",
     "text": [
      "/var/folders/cb/9kkmszhd7fx9_93t2qb1_s640000gn/T/ipykernel_21572/1273127160.py:3: SettingWithCopyWarning: \n",
      "A value is trying to be set on a copy of a slice from a DataFrame.\n",
      "Try using .loc[row_indexer,col_indexer] = value instead\n",
      "\n",
      "See the caveats in the documentation: https://pandas.pydata.org/pandas-docs/stable/user_guide/indexing.html#returning-a-view-versus-a-copy\n",
      "  training_features[\"volatility_rolling_median\"] = training_features[\"Daily Volatility\"].rolling(window=41, center=True, min_periods=1).median()\n",
      "/var/folders/cb/9kkmszhd7fx9_93t2qb1_s640000gn/T/ipykernel_21572/1273127160.py:4: SettingWithCopyWarning: \n",
      "A value is trying to be set on a copy of a slice from a DataFrame.\n",
      "Try using .loc[row_indexer,col_indexer] = value instead\n",
      "\n",
      "See the caveats in the documentation: https://pandas.pydata.org/pandas-docs/stable/user_guide/indexing.html#returning-a-view-versus-a-copy\n",
      "  training_features[\"return_squared_rolling_median\"] = training_features[\"Return_Squared\"].rolling(window=41, center=True, min_periods=1).median()\n",
      "/var/folders/cb/9kkmszhd7fx9_93t2qb1_s640000gn/T/ipykernel_21572/1273127160.py:5: SettingWithCopyWarning: \n",
      "A value is trying to be set on a copy of a slice from a DataFrame.\n",
      "Try using .loc[row_indexer,col_indexer] = value instead\n",
      "\n",
      "See the caveats in the documentation: https://pandas.pydata.org/pandas-docs/stable/user_guide/indexing.html#returning-a-view-versus-a-copy\n",
      "  training_features[\"return_rolling_median\"] = training_features[\"Return\"].rolling(window=41, center=True, min_periods=1).median()\n",
      "/var/folders/cb/9kkmszhd7fx9_93t2qb1_s640000gn/T/ipykernel_21572/1273127160.py:6: SettingWithCopyWarning: \n",
      "A value is trying to be set on a copy of a slice from a DataFrame.\n",
      "Try using .loc[row_indexer,col_indexer] = value instead\n",
      "\n",
      "See the caveats in the documentation: https://pandas.pydata.org/pandas-docs/stable/user_guide/indexing.html#returning-a-view-versus-a-copy\n",
      "  training_features[\"EMAF_rolling_median\"] = training_features[\"EMAF\"].rolling(window=41, center=True, min_periods=1).median()\n",
      "/var/folders/cb/9kkmszhd7fx9_93t2qb1_s640000gn/T/ipykernel_21572/1273127160.py:7: SettingWithCopyWarning: \n",
      "A value is trying to be set on a copy of a slice from a DataFrame.\n",
      "Try using .loc[row_indexer,col_indexer] = value instead\n",
      "\n",
      "See the caveats in the documentation: https://pandas.pydata.org/pandas-docs/stable/user_guide/indexing.html#returning-a-view-versus-a-copy\n",
      "  training_features[\"volume_rolling_median\"] = training_features[\"Volume\"].rolling(window=41, center=True, min_periods=1).median()\n",
      "/var/folders/cb/9kkmszhd7fx9_93t2qb1_s640000gn/T/ipykernel_21572/1273127160.py:9: SettingWithCopyWarning: \n",
      "A value is trying to be set on a copy of a slice from a DataFrame.\n",
      "Try using .loc[row_indexer,col_indexer] = value instead\n",
      "\n",
      "See the caveats in the documentation: https://pandas.pydata.org/pandas-docs/stable/user_guide/indexing.html#returning-a-view-versus-a-copy\n",
      "  training_features[\"volatility minus median\"] = (training_features[\"Daily Volatility\"] - training_features[\"volatility_rolling_median\"]).abs()\n",
      "/var/folders/cb/9kkmszhd7fx9_93t2qb1_s640000gn/T/ipykernel_21572/1273127160.py:10: SettingWithCopyWarning: \n",
      "A value is trying to be set on a copy of a slice from a DataFrame.\n",
      "Try using .loc[row_indexer,col_indexer] = value instead\n",
      "\n",
      "See the caveats in the documentation: https://pandas.pydata.org/pandas-docs/stable/user_guide/indexing.html#returning-a-view-versus-a-copy\n",
      "  training_features[\"return_squared minus median\"] = (training_features[\"Return_Squared\"] - training_features[\"return_squared_rolling_median\"]).abs()\n",
      "/var/folders/cb/9kkmszhd7fx9_93t2qb1_s640000gn/T/ipykernel_21572/1273127160.py:11: SettingWithCopyWarning: \n",
      "A value is trying to be set on a copy of a slice from a DataFrame.\n",
      "Try using .loc[row_indexer,col_indexer] = value instead\n",
      "\n",
      "See the caveats in the documentation: https://pandas.pydata.org/pandas-docs/stable/user_guide/indexing.html#returning-a-view-versus-a-copy\n",
      "  training_features[\"return minus median\"] = (training_features[\"Return\"] - training_features[\"return_rolling_median\"]).abs()\n",
      "/var/folders/cb/9kkmszhd7fx9_93t2qb1_s640000gn/T/ipykernel_21572/1273127160.py:12: SettingWithCopyWarning: \n",
      "A value is trying to be set on a copy of a slice from a DataFrame.\n",
      "Try using .loc[row_indexer,col_indexer] = value instead\n",
      "\n",
      "See the caveats in the documentation: https://pandas.pydata.org/pandas-docs/stable/user_guide/indexing.html#returning-a-view-versus-a-copy\n",
      "  training_features[\"EMAF minus median\"] = (training_features[\"EMAF\"] - training_features[\"EMAF_rolling_median\"]).abs()\n",
      "/var/folders/cb/9kkmszhd7fx9_93t2qb1_s640000gn/T/ipykernel_21572/1273127160.py:13: SettingWithCopyWarning: \n",
      "A value is trying to be set on a copy of a slice from a DataFrame.\n",
      "Try using .loc[row_indexer,col_indexer] = value instead\n",
      "\n",
      "See the caveats in the documentation: https://pandas.pydata.org/pandas-docs/stable/user_guide/indexing.html#returning-a-view-versus-a-copy\n",
      "  training_features[\"volume minus median\"] = (training_features[\"Volume\"] - training_features[\"volume_rolling_median\"]).abs()\n"
     ]
    }
   ],
   "source": [
    "#Outlier removal\n",
    "\n",
    "training_features[\"volatility_rolling_median\"] = training_features[\"Daily Volatility\"].rolling(window=41, center=True, min_periods=1).median()\n",
    "training_features[\"return_squared_rolling_median\"] = training_features[\"Return_Squared\"].rolling(window=41, center=True, min_periods=1).median()\n",
    "training_features[\"return_rolling_median\"] = training_features[\"Return\"].rolling(window=41, center=True, min_periods=1).median()\n",
    "training_features[\"EMAF_rolling_median\"] = training_features[\"EMAF\"].rolling(window=41, center=True, min_periods=1).median()\n",
    "training_features[\"volume_rolling_median\"] = training_features[\"Volume\"].rolling(window=41, center=True, min_periods=1).median()\n",
    "\n",
    "training_features[\"volatility minus median\"] = (training_features[\"Daily Volatility\"] - training_features[\"volatility_rolling_median\"]).abs()\n",
    "training_features[\"return_squared minus median\"] = (training_features[\"Return_Squared\"] - training_features[\"return_squared_rolling_median\"]).abs()\n",
    "training_features[\"return minus median\"] = (training_features[\"Return\"] - training_features[\"return_rolling_median\"]).abs()\n",
    "training_features[\"EMAF minus median\"] = (training_features[\"EMAF\"] - training_features[\"EMAF_rolling_median\"]).abs()\n",
    "training_features[\"volume minus median\"] = (training_features[\"Volume\"] - training_features[\"volume_rolling_median\"]).abs()\n",
    "\n",
    "volatility_outliers_removed = training_features[~(training_features['volatility minus median'] > 3 * training_features['volatility minus median'].median())]\n",
    "all_outliers_removed = volatility_outliers_removed[~(volatility_outliers_removed['return_squared minus median'] > 3 * volatility_outliers_removed['return_squared minus median'].median())]\n",
    "all_outliers_removed = all_outliers_removed[~(all_outliers_removed['return minus median'] > 3 * volatility_outliers_removed['return minus median'].median())]\n",
    "all_outliers_removed = all_outliers_removed[~(all_outliers_removed['EMAF minus median'] > 3 * volatility_outliers_removed['EMAF minus median'].median())]\n",
    "all_outliers_removed = all_outliers_removed[~(all_outliers_removed['volume minus median'] > 3 * volatility_outliers_removed['volume minus median'].median())]"
   ]
  },
  {
   "cell_type": "code",
   "execution_count": 7,
   "metadata": {},
   "outputs": [],
   "source": [
    "X_cleaned = all_outliers_removed[[\"Volume\", \"Return\", \"Return_Squared\", \"EMAF\", \"Daily Volatility\"]]\n",
    "Y_cleaned = all_outliers_removed[\"target\"]\n",
    "data_set_cleaned = all_outliers_removed[[\"Volume\", \"Return\", \"Return_Squared\", \"EMAF\", \"Daily Volatility\", \"target\"]]"
   ]
  },
  {
   "cell_type": "code",
   "execution_count": 7,
   "metadata": {},
   "outputs": [],
   "source": [
    "from sklearn.preprocessing import MinMaxScaler\n",
    "\n",
    "scaler = MinMaxScaler()\n",
    "training_data_features_scaled = scaler.fit_transform(X_cleaned)\n",
    "data_set_scaled = scaler.fit_transform(data_set_cleaned)"
   ]
  },
  {
   "cell_type": "code",
   "execution_count": 8,
   "metadata": {},
   "outputs": [],
   "source": [
    "#Reconstructing training data for logistic regression\n",
    "Z = []\n",
    "\n",
    "backcandles = 10\n",
    "\n",
    "for j in range(5):\n",
    "    Z.append([])\n",
    "    for i in range(backcandles, training_data_features_scaled.shape[0]):\n",
    "        Z[j].append(training_data_features_scaled[i-backcandles:i, j])\n",
    "        \n",
    "Z = np.moveaxis(Z, [0], [2])        \n",
    "Z, yi = np.array(Z), np.array(data_set_scaled[backcandles-1:, -1])\n",
    "y_final = np.reshape(yi,(len(yi),1))\n",
    "y_final = y_final[1:]"
   ]
  },
  {
   "cell_type": "code",
   "execution_count": 9,
   "metadata": {},
   "outputs": [],
   "source": [
    "test_data_features_scaled = scaler.fit_transform(test_data[[\"Volume\", \"Return\", \"Return_Squared\", \"EMAF\", \"Daily Volatility\"]])\n",
    "test_dataset_scaled = scaler.fit_transform(test_data)"
   ]
  },
  {
   "cell_type": "code",
   "execution_count": 10,
   "metadata": {},
   "outputs": [],
   "source": [
    "#Reconstructing test data for logistic regression\n",
    "T = []\n",
    "\n",
    "backcandles = 10\n",
    "\n",
    "for j in range(5):\n",
    "    T.append([])\n",
    "    for i in range(backcandles, test_data_features_scaled.shape[0]):\n",
    "        T[j].append(test_data_features_scaled[i-backcandles:i, j])\n",
    "        \n",
    "        \n",
    "T = np.moveaxis(T, [0], [2])   \n",
    "T, yi_test = np.array(T), np.array(test_dataset_scaled[backcandles-1:, -1])\n",
    "y_final_test = np.reshape(yi_test,(len(yi_test),1))\n",
    "y_final_test = y_final_test[1:]"
   ]
  },
  {
   "cell_type": "code",
   "execution_count": 12,
   "metadata": {},
   "outputs": [
    {
     "name": "stdout",
     "output_type": "stream",
     "text": [
      "[[325 146]\n",
      " [161 313]]\n",
      "0.6753207455821835\n"
     ]
    }
   ],
   "source": [
    "#Logistic Regression model\n",
    "from sklearn.linear_model import LogisticRegression\n",
    "import matplotlib.pyplot as plt\n",
    "from sklearn.metrics import roc_curve, auc\n",
    "from matplotlib import cm\n",
    "import numpy as np\n",
    "from sklearn.metrics import confusion_matrix\n",
    "\n",
    "Z_flattened = Z.reshape(1186, -1)\n",
    "y_final_flattened = y_final.ravel()\n",
    "\n",
    "T_flattened = T.reshape(945, -1)\n",
    "y_final_test_flattened = y_final_test.ravel()\n",
    "\n",
    "\n",
    "model_LR = LogisticRegression()\n",
    "model_LR.fit(Z_flattened, y_final_flattened)\n",
    "\n",
    "\n",
    "test_predictions1 = model_LR.predict(T_flattened)\n",
    "dataframe = pd.DataFrame(y_final_test_flattened, columns = [\"target\"])\n",
    "dataframe[\"predicted\"] = test_predictions1\n",
    "cm_LR = confusion_matrix(dataframe['predicted'], dataframe['target'])\n",
    "print(cm_LR)\n",
    "\n",
    "\n",
    "\n",
    "fpr, tpr, thresholds = roc_curve(dataframe['target'], dataframe['predicted'])\n",
    "roc_auc = auc(fpr, tpr)\n",
    "print(roc_auc)"
   ]
  },
  {
   "cell_type": "code",
   "execution_count": 13,
   "metadata": {},
   "outputs": [
    {
     "name": "stdout",
     "output_type": "stream",
     "text": [
      "Epoch 1/50\n",
      "38/38 [==============================] - 0s 1ms/step - loss: 0.6896 - accuracy: 0.5619 - val_loss: 0.6852 - val_accuracy: 0.5619\n",
      "Epoch 2/50\n",
      "38/38 [==============================] - 0s 520us/step - loss: 0.6826 - accuracy: 0.5619 - val_loss: 0.6792 - val_accuracy: 0.5619\n",
      "Epoch 3/50\n",
      "38/38 [==============================] - 0s 425us/step - loss: 0.6771 - accuracy: 0.5619 - val_loss: 0.6735 - val_accuracy: 0.5761\n",
      "Epoch 4/50\n",
      " 1/38 [..............................] - ETA: 0s - loss: 0.6763 - accuracy: 0.5312"
     ]
    },
    {
     "name": "stderr",
     "output_type": "stream",
     "text": [
      "2024-04-19 18:27:59.293811: I tensorflow/compiler/mlir/mlir_graph_optimization_pass.cc:185] None of the MLIR Optimization Passes are enabled (registered 2)\n",
      "2024-04-19 18:27:59.293994: W tensorflow/core/platform/profile_utils/cpu_utils.cc:128] Failed to get CPU frequency: 0 Hz\n"
     ]
    },
    {
     "name": "stdout",
     "output_type": "stream",
     "text": [
      "38/38 [==============================] - 0s 413us/step - loss: 0.6722 - accuracy: 0.5811 - val_loss: 0.6684 - val_accuracy: 0.5870\n",
      "Epoch 5/50\n",
      "38/38 [==============================] - 0s 466us/step - loss: 0.6668 - accuracy: 0.5920 - val_loss: 0.6633 - val_accuracy: 0.6020\n",
      "Epoch 6/50\n",
      "38/38 [==============================] - 0s 458us/step - loss: 0.6621 - accuracy: 0.6112 - val_loss: 0.6585 - val_accuracy: 0.6229\n",
      "Epoch 7/50\n",
      "38/38 [==============================] - 0s 463us/step - loss: 0.6572 - accuracy: 0.6129 - val_loss: 0.6539 - val_accuracy: 0.6296\n",
      "Epoch 8/50\n",
      "38/38 [==============================] - 0s 470us/step - loss: 0.6528 - accuracy: 0.6288 - val_loss: 0.6490 - val_accuracy: 0.6363\n",
      "Epoch 9/50\n",
      "38/38 [==============================] - 0s 438us/step - loss: 0.6476 - accuracy: 0.6329 - val_loss: 0.6448 - val_accuracy: 0.6338\n",
      "Epoch 10/50\n",
      "38/38 [==============================] - 0s 447us/step - loss: 0.6435 - accuracy: 0.6371 - val_loss: 0.6409 - val_accuracy: 0.6338\n",
      "Epoch 11/50\n",
      "38/38 [==============================] - 0s 438us/step - loss: 0.6399 - accuracy: 0.6405 - val_loss: 0.6371 - val_accuracy: 0.6413\n",
      "Epoch 12/50\n",
      "38/38 [==============================] - 0s 438us/step - loss: 0.6356 - accuracy: 0.6355 - val_loss: 0.6334 - val_accuracy: 0.6405\n",
      "Epoch 13/50\n",
      "38/38 [==============================] - 0s 449us/step - loss: 0.6330 - accuracy: 0.6371 - val_loss: 0.6306 - val_accuracy: 0.6380\n",
      "Epoch 14/50\n",
      "38/38 [==============================] - 0s 469us/step - loss: 0.6304 - accuracy: 0.6388 - val_loss: 0.6276 - val_accuracy: 0.6388\n",
      "Epoch 15/50\n",
      "38/38 [==============================] - 0s 453us/step - loss: 0.6273 - accuracy: 0.6488 - val_loss: 0.6255 - val_accuracy: 0.6396\n",
      "Epoch 16/50\n",
      "38/38 [==============================] - 0s 452us/step - loss: 0.6255 - accuracy: 0.6430 - val_loss: 0.6232 - val_accuracy: 0.6430\n",
      "Epoch 17/50\n",
      "38/38 [==============================] - 0s 450us/step - loss: 0.6243 - accuracy: 0.6380 - val_loss: 0.6220 - val_accuracy: 0.6572\n",
      "Epoch 18/50\n",
      "38/38 [==============================] - 0s 443us/step - loss: 0.6219 - accuracy: 0.6421 - val_loss: 0.6195 - val_accuracy: 0.6446\n",
      "Epoch 19/50\n",
      "38/38 [==============================] - 0s 443us/step - loss: 0.6203 - accuracy: 0.6355 - val_loss: 0.6180 - val_accuracy: 0.6480\n",
      "Epoch 20/50\n",
      "38/38 [==============================] - 0s 450us/step - loss: 0.6185 - accuracy: 0.6421 - val_loss: 0.6166 - val_accuracy: 0.6463\n",
      "Epoch 21/50\n",
      "38/38 [==============================] - 0s 474us/step - loss: 0.6173 - accuracy: 0.6421 - val_loss: 0.6156 - val_accuracy: 0.6446\n",
      "Epoch 22/50\n",
      "38/38 [==============================] - 0s 454us/step - loss: 0.6165 - accuracy: 0.6388 - val_loss: 0.6145 - val_accuracy: 0.6497\n",
      "Epoch 23/50\n",
      "38/38 [==============================] - 0s 448us/step - loss: 0.6148 - accuracy: 0.6555 - val_loss: 0.6137 - val_accuracy: 0.6530\n",
      "Epoch 24/50\n",
      "38/38 [==============================] - 0s 458us/step - loss: 0.6149 - accuracy: 0.6505 - val_loss: 0.6126 - val_accuracy: 0.6538\n",
      "Epoch 25/50\n",
      "38/38 [==============================] - 0s 450us/step - loss: 0.6134 - accuracy: 0.6513 - val_loss: 0.6119 - val_accuracy: 0.6513\n",
      "Epoch 26/50\n",
      "38/38 [==============================] - 0s 445us/step - loss: 0.6128 - accuracy: 0.6530 - val_loss: 0.6115 - val_accuracy: 0.6564\n",
      "Epoch 27/50\n",
      "38/38 [==============================] - 0s 437us/step - loss: 0.6128 - accuracy: 0.6488 - val_loss: 0.6110 - val_accuracy: 0.6547\n",
      "Epoch 28/50\n",
      "38/38 [==============================] - 0s 447us/step - loss: 0.6113 - accuracy: 0.6530 - val_loss: 0.6097 - val_accuracy: 0.6530\n",
      "Epoch 29/50\n",
      "38/38 [==============================] - 0s 449us/step - loss: 0.6106 - accuracy: 0.6497 - val_loss: 0.6091 - val_accuracy: 0.6555\n",
      "Epoch 30/50\n",
      "38/38 [==============================] - 0s 451us/step - loss: 0.6101 - accuracy: 0.6538 - val_loss: 0.6091 - val_accuracy: 0.6555\n",
      "Epoch 31/50\n",
      "38/38 [==============================] - 0s 467us/step - loss: 0.6102 - accuracy: 0.6564 - val_loss: 0.6083 - val_accuracy: 0.6547\n",
      "Epoch 32/50\n",
      "38/38 [==============================] - 0s 463us/step - loss: 0.6094 - accuracy: 0.6505 - val_loss: 0.6100 - val_accuracy: 0.6597\n",
      "Epoch 33/50\n",
      "38/38 [==============================] - 0s 453us/step - loss: 0.6080 - accuracy: 0.6589 - val_loss: 0.6081 - val_accuracy: 0.6530\n",
      "Epoch 34/50\n",
      "38/38 [==============================] - 0s 450us/step - loss: 0.6088 - accuracy: 0.6530 - val_loss: 0.6070 - val_accuracy: 0.6564\n",
      "Epoch 35/50\n",
      "38/38 [==============================] - 0s 456us/step - loss: 0.6072 - accuracy: 0.6564 - val_loss: 0.6066 - val_accuracy: 0.6530\n",
      "Epoch 36/50\n",
      "38/38 [==============================] - 0s 444us/step - loss: 0.6076 - accuracy: 0.6555 - val_loss: 0.6062 - val_accuracy: 0.6547\n",
      "Epoch 37/50\n",
      "38/38 [==============================] - 0s 428us/step - loss: 0.6072 - accuracy: 0.6564 - val_loss: 0.6061 - val_accuracy: 0.6580\n",
      "Epoch 38/50\n",
      "38/38 [==============================] - 0s 432us/step - loss: 0.6067 - accuracy: 0.6513 - val_loss: 0.6056 - val_accuracy: 0.6555\n",
      "Epoch 39/50\n",
      "38/38 [==============================] - 0s 437us/step - loss: 0.6061 - accuracy: 0.6555 - val_loss: 0.6059 - val_accuracy: 0.6555\n",
      "Epoch 40/50\n",
      "38/38 [==============================] - 0s 525us/step - loss: 0.6057 - accuracy: 0.6622 - val_loss: 0.6055 - val_accuracy: 0.6589\n",
      "Epoch 41/50\n",
      "38/38 [==============================] - 0s 448us/step - loss: 0.6065 - accuracy: 0.6530 - val_loss: 0.6048 - val_accuracy: 0.6572\n",
      "Epoch 42/50\n",
      "38/38 [==============================] - 0s 436us/step - loss: 0.6061 - accuracy: 0.6672 - val_loss: 0.6057 - val_accuracy: 0.6647\n",
      "Epoch 43/50\n",
      "38/38 [==============================] - 0s 414us/step - loss: 0.6065 - accuracy: 0.6572 - val_loss: 0.6038 - val_accuracy: 0.6580\n",
      "Epoch 44/50\n",
      "38/38 [==============================] - 0s 442us/step - loss: 0.6046 - accuracy: 0.6513 - val_loss: 0.6034 - val_accuracy: 0.6580\n",
      "Epoch 45/50\n",
      "38/38 [==============================] - 0s 434us/step - loss: 0.6045 - accuracy: 0.6589 - val_loss: 0.6031 - val_accuracy: 0.6564\n",
      "Epoch 46/50\n",
      "38/38 [==============================] - 0s 445us/step - loss: 0.6038 - accuracy: 0.6630 - val_loss: 0.6029 - val_accuracy: 0.6572\n",
      "Epoch 47/50\n",
      "38/38 [==============================] - 0s 437us/step - loss: 0.6037 - accuracy: 0.6572 - val_loss: 0.6025 - val_accuracy: 0.6639\n",
      "Epoch 48/50\n",
      "38/38 [==============================] - 0s 488us/step - loss: 0.6046 - accuracy: 0.6572 - val_loss: 0.6023 - val_accuracy: 0.6597\n",
      "Epoch 49/50\n",
      "38/38 [==============================] - 0s 535us/step - loss: 0.6029 - accuracy: 0.6630 - val_loss: 0.6019 - val_accuracy: 0.6647\n",
      "Epoch 50/50\n",
      "38/38 [==============================] - 0s 476us/step - loss: 0.6029 - accuracy: 0.6614 - val_loss: 0.6026 - val_accuracy: 0.6564\n"
     ]
    }
   ],
   "source": [
    "#FFNN model\n",
    "input_shape = len(training_data_features_scaled[0, :]) \n",
    "\n",
    "ff_input = Input(shape=input_shape, name='ff_input')\n",
    "inputs = Dense(80, activation='relu', name='first_layer')(ff_input)  \n",
    "outputs = Dense(1, activation='sigmoid', name='output')(inputs)\n",
    "model = Model(inputs=ff_input, outputs=outputs)\n",
    "model.compile(optimizer=\"adam\", loss=\"binary_crossentropy\", metrics=[\"accuracy\"])\n",
    "\n",
    "history = model.fit(x=training_data_features_scaled, y=data_set_scaled[:, -1], epochs=50, validation_data=(training_data_features_scaled, data_set_scaled[:, -1]))"
   ]
  },
  {
   "cell_type": "code",
   "execution_count": 14,
   "metadata": {},
   "outputs": [],
   "source": [
    "FFNN_predictions = model.predict(test_data_features_scaled)\n",
    "FFNN_predictions_classes = (FFNN_predictions > 0.5).astype(int)\n",
    "y_frame_FFNN = test_dataset_scaled[:, -1]\n",
    "\n",
    "df = pd.DataFrame({\n",
    "    \"target\": y_frame_FFNN,\n",
    "    \"predicted\": FFNN_predictions_classes.ravel()  \n",
    "})"
   ]
  },
  {
   "cell_type": "code",
   "execution_count": 15,
   "metadata": {},
   "outputs": [
    {
     "name": "stdout",
     "output_type": "stream",
     "text": [
      "[[439 328]\n",
      " [ 51 137]]\n"
     ]
    }
   ],
   "source": [
    "from sklearn.metrics import confusion_matrix\n",
    "cm = confusion_matrix(df['predicted'], df['target'])\n",
    "print(cm)"
   ]
  },
  {
   "cell_type": "code",
   "execution_count": 16,
   "metadata": {},
   "outputs": [
    {
     "data": {
      "text/plain": [
       "0.5952710116304587"
      ]
     },
     "execution_count": 16,
     "metadata": {},
     "output_type": "execute_result"
    }
   ],
   "source": [
    "fpr, tpr, thresholds = roc_curve(df['target'], df['predicted'])\n",
    "roc_auc = auc(fpr, tpr)\n",
    "roc_auc"
   ]
  },
  {
   "cell_type": "code",
   "execution_count": null,
   "metadata": {},
   "outputs": [],
   "source": []
  }
 ],
 "metadata": {
  "kernelspec": {
   "display_name": "diss_model",
   "language": "python",
   "name": "diss_model"
  },
  "language_info": {
   "codemirror_mode": {
    "name": "ipython",
    "version": 3
   },
   "file_extension": ".py",
   "mimetype": "text/x-python",
   "name": "python",
   "nbconvert_exporter": "python",
   "pygments_lexer": "ipython3",
   "version": "3.9.15"
  }
 },
 "nbformat": 4,
 "nbformat_minor": 4
}
