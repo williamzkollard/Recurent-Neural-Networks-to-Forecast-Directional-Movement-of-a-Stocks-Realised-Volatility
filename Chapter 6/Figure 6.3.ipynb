{
 "cells": [
  {
   "cell_type": "code",
   "execution_count": 1,
   "metadata": {},
   "outputs": [],
   "source": [
    "import pandas as pd\n",
    "import pandas as pd \n",
    "import numpy as np\n",
    "import matplotlib.pyplot as plt\n",
    "import tensorflow as tf\n",
    "from tensorflow.keras import layers\n",
    "from tensorflow.keras.models import Sequential\n",
    "from tensorflow.keras.layers import Dense, Dropout, LSTM, Input, Activation, concatenate, Bidirectional, GRU \n",
    "from keras import Model\n",
    "from keras import optimizers\n",
    "from tensorflow import keras"
   ]
  },
  {
   "cell_type": "code",
   "execution_count": 2,
   "metadata": {},
   "outputs": [],
   "source": [
    "data_full = pd.read_csv('Intrahour Volatility Dataset.csv')"
   ]
  },
  {
   "cell_type": "code",
   "execution_count": 3,
   "metadata": {},
   "outputs": [],
   "source": [
    "X = data_full[[\"Return_Squared\", \"Hourly Volatility\"]]\n",
    "Y = data_full[\"target\"]\n",
    "data_set = data_full[[\"Date\",\"Return_Squared\", \"Hourly Volatility\", \"target\"]]"
   ]
  },
  {
   "cell_type": "code",
   "execution_count": 4,
   "metadata": {},
   "outputs": [],
   "source": [
    "#Train-test split\n",
    "splitlimit = int(len(data_full)*0.8)\n",
    "training_features, test_data = data_set[:splitlimit], data_set[splitlimit:]"
   ]
  },
  {
   "cell_type": "code",
   "execution_count": 5,
   "metadata": {},
   "outputs": [
    {
     "name": "stderr",
     "output_type": "stream",
     "text": [
      "/var/folders/cb/9kkmszhd7fx9_93t2qb1_s640000gn/T/ipykernel_18498/1338683924.py:3: SettingWithCopyWarning: \n",
      "A value is trying to be set on a copy of a slice from a DataFrame.\n",
      "Try using .loc[row_indexer,col_indexer] = value instead\n",
      "\n",
      "See the caveats in the documentation: https://pandas.pydata.org/pandas-docs/stable/user_guide/indexing.html#returning-a-view-versus-a-copy\n",
      "  training_features[\"hourly_volatility_rolling_median\"] = training_features[\"Hourly Volatility\"].rolling(window=41, center=True, min_periods=1).median()\n",
      "/var/folders/cb/9kkmszhd7fx9_93t2qb1_s640000gn/T/ipykernel_18498/1338683924.py:4: SettingWithCopyWarning: \n",
      "A value is trying to be set on a copy of a slice from a DataFrame.\n",
      "Try using .loc[row_indexer,col_indexer] = value instead\n",
      "\n",
      "See the caveats in the documentation: https://pandas.pydata.org/pandas-docs/stable/user_guide/indexing.html#returning-a-view-versus-a-copy\n",
      "  training_features[\"return_squared_rolling_median\"] = training_features[\"Return_Squared\"].rolling(window=41, center=True, min_periods=1).median()\n",
      "/var/folders/cb/9kkmszhd7fx9_93t2qb1_s640000gn/T/ipykernel_18498/1338683924.py:5: SettingWithCopyWarning: \n",
      "A value is trying to be set on a copy of a slice from a DataFrame.\n",
      "Try using .loc[row_indexer,col_indexer] = value instead\n",
      "\n",
      "See the caveats in the documentation: https://pandas.pydata.org/pandas-docs/stable/user_guide/indexing.html#returning-a-view-versus-a-copy\n",
      "  training_features[\"volatility minus median\"] = (training_features[\"Hourly Volatility\"] - training_features[\"hourly_volatility_rolling_median\"]).abs()\n",
      "/var/folders/cb/9kkmszhd7fx9_93t2qb1_s640000gn/T/ipykernel_18498/1338683924.py:6: SettingWithCopyWarning: \n",
      "A value is trying to be set on a copy of a slice from a DataFrame.\n",
      "Try using .loc[row_indexer,col_indexer] = value instead\n",
      "\n",
      "See the caveats in the documentation: https://pandas.pydata.org/pandas-docs/stable/user_guide/indexing.html#returning-a-view-versus-a-copy\n",
      "  training_features[\"return minus median\"] = (training_features[\"Return_Squared\"] - training_features[\"return_squared_rolling_median\"]).abs()\n"
     ]
    }
   ],
   "source": [
    "#Outlier Detection in training_data_features\n",
    "\n",
    "training_features[\"hourly_volatility_rolling_median\"] = training_features[\"Hourly Volatility\"].rolling(window=41, center=True, min_periods=1).median()\n",
    "training_features[\"return_squared_rolling_median\"] = training_features[\"Return_Squared\"].rolling(window=41, center=True, min_periods=1).median()\n",
    "training_features[\"volatility minus median\"] = (training_features[\"Hourly Volatility\"] - training_features[\"hourly_volatility_rolling_median\"]).abs()\n",
    "training_features[\"return minus median\"] = (training_features[\"Return_Squared\"] - training_features[\"return_squared_rolling_median\"]).abs()\n",
    "volatility_outliers_removed = training_features[~(training_features['volatility minus median'] > 5 * training_features['volatility minus median'].median())]\n",
    "both_outliers_removed = volatility_outliers_removed[~(volatility_outliers_removed['return minus median'] > 5 * volatility_outliers_removed['return minus median'].median())]"
   ]
  },
  {
   "cell_type": "code",
   "execution_count": 6,
   "metadata": {},
   "outputs": [],
   "source": [
    "X_cleaned = both_outliers_removed[[\"Return_Squared\", \"Hourly Volatility\"]]\n",
    "Y_cleaned = both_outliers_removed[\"target\"]\n",
    "data_set_cleaned = both_outliers_removed[[\"Return_Squared\", \"Hourly Volatility\", \"target\"]]"
   ]
  },
  {
   "cell_type": "code",
   "execution_count": 7,
   "metadata": {},
   "outputs": [],
   "source": [
    "from sklearn.preprocessing import MinMaxScaler\n",
    "\n",
    "scaler = MinMaxScaler()\n",
    "training_data_features_scaled = scaler.fit_transform(X_cleaned)\n",
    "data_set_scaled = scaler.fit_transform(data_set_cleaned)"
   ]
  },
  {
   "cell_type": "code",
   "execution_count": 8,
   "metadata": {},
   "outputs": [],
   "source": [
    "#Reconstructing training data \n",
    "\n",
    "Z = []\n",
    "\n",
    "backcandles = 15\n",
    "\n",
    "for j in range(2):\n",
    "    Z.append([])\n",
    "    for i in range(backcandles, training_data_features_scaled.shape[0]):\n",
    "        Z[j].append(training_data_features_scaled[i-backcandles:i, j])\n",
    "        \n",
    "Z = np.moveaxis(Z, [0], [2])\n",
    "Z, yi = np.array(Z), np.array(data_set_scaled[backcandles-1:, -1])\n",
    "y_final = np.reshape(yi,(len(yi),1))\n",
    "y_final = y_final[1:]"
   ]
  },
  {
   "cell_type": "code",
   "execution_count": 9,
   "metadata": {},
   "outputs": [],
   "source": [
    "#OGRU Cell and Layer\n",
    "import tensorflow as tf\n",
    "from tensorflow.keras.layers import Layer\n",
    "\n",
    "           \n",
    "class OGRUCell(Layer):\n",
    "    def __init__(self, units, **kwargs):\n",
    "        super(OGRUCell, self).__init__(**kwargs)\n",
    "        self.units = units\n",
    "        self.state_size = units  \n",
    "        self.output_size = units  \n",
    "        \n",
    "    def build(self, input_shape):\n",
    "        self.Wr = self.add_weight(shape=(input_shape[-1], self.units),\n",
    "                                  initializer='glorot_uniform',\n",
    "                                  name='Wr')\n",
    "        self.Ur = self.add_weight(shape=(self.units, self.units),\n",
    "                                  initializer='orthogonal',\n",
    "                                  name='Ur')\n",
    "        self.Wz = self.add_weight(shape=(input_shape[-1], self.units),\n",
    "                                  initializer='glorot_uniform',\n",
    "                                  name='Wz')\n",
    "        self.Uz = self.add_weight(shape=(self.units, self.units),\n",
    "                                  initializer='orthogonal',\n",
    "                                  name='Uz')\n",
    "        self.W = self.add_weight(shape=(input_shape[-1], self.units),\n",
    "                                 initializer='glorot_uniform',\n",
    "                                 name='W')\n",
    "        self.U = self.add_weight(shape=(self.units, self.units),\n",
    "                                 initializer='orthogonal',\n",
    "                                 name='U')\n",
    "        self.bias_r = self.add_weight(shape=(self.units,),\n",
    "                                      initializer='zeros',\n",
    "                                      name='bias_r')\n",
    "        self.bias_z = self.add_weight(shape=(self.units,),\n",
    "                                      initializer='zeros',\n",
    "                                      name='bias_z')\n",
    "        self.bias_h = self.add_weight(shape=(self.units,),\n",
    "                                      initializer='zeros',\n",
    "                                      name='bias_h')\n",
    "\n",
    "    \n",
    "    def call(self, inputs, states):\n",
    "        prev_h = states[0]\n",
    "\n",
    "        r = tf.sigmoid(tf.matmul(inputs, self.Wr) + tf.matmul(prev_h, self.Ur) + self.bias_r)\n",
    "        \n",
    "        r_reduced = tf.reduce_mean(r, axis=-1, keepdims=True)  # Averaging across the units dimension\n",
    "        r_reduced = tf.tile(r_reduced, [1, inputs.shape[-1]])\n",
    "\n",
    "      \n",
    "        z = tf.sigmoid(tf.matmul(inputs * r_reduced, self.Wz) + tf.matmul(prev_h, self.Uz) + self.bias_z)\n",
    "\n",
    "        n = tf.tanh(tf.matmul(inputs, self.W) + tf.matmul(prev_h * r, self.U) + self.bias_h)\n",
    "\n",
    "        h = (1 - z) * prev_h + z * n\n",
    "\n",
    "        return h, [h]\n",
    "\n",
    "\n",
    "# Producing OGRU layer \n",
    "class OGRU(tf.keras.layers.RNN):\n",
    "    def __init__(self, units, **kwargs):\n",
    "        self.cell = OGRUCell(units, **kwargs)\n",
    "        super(OGRU, self).__init__(self.cell, **kwargs)\n",
    "\n",
    "# OGRU layer with 80 units\n",
    "ogru_layer = OGRU(units=80)"
   ]
  },
  {
   "cell_type": "code",
   "execution_count": 18,
   "metadata": {},
   "outputs": [
    {
     "name": "stdout",
     "output_type": "stream",
     "text": [
      "Epoch 1/50\n",
      "1349/1349 [==============================] - 5s 3ms/step - loss: 0.6353 - accuracy: 0.6330 - val_loss: 0.6194 - val_accuracy: 0.6489\n",
      "Epoch 2/50\n",
      "1349/1349 [==============================] - 5s 3ms/step - loss: 0.6093 - accuracy: 0.6639 - val_loss: 0.6040 - val_accuracy: 0.6704\n",
      "Epoch 3/50\n",
      "1349/1349 [==============================] - 4s 3ms/step - loss: 0.6030 - accuracy: 0.6700 - val_loss: 0.5994 - val_accuracy: 0.6761\n",
      "Epoch 4/50\n",
      "1349/1349 [==============================] - 4s 3ms/step - loss: 0.6007 - accuracy: 0.6740 - val_loss: 0.5990 - val_accuracy: 0.6733\n",
      "Epoch 5/50\n",
      "1349/1349 [==============================] - 4s 3ms/step - loss: 0.5982 - accuracy: 0.6745 - val_loss: 0.6003 - val_accuracy: 0.6709\n",
      "Epoch 6/50\n",
      "1349/1349 [==============================] - 4s 3ms/step - loss: 0.5975 - accuracy: 0.6771 - val_loss: 0.5971 - val_accuracy: 0.6764\n",
      "Epoch 7/50\n",
      "1349/1349 [==============================] - 4s 3ms/step - loss: 0.5965 - accuracy: 0.6755 - val_loss: 0.5948 - val_accuracy: 0.6810\n",
      "Epoch 8/50\n",
      "1349/1349 [==============================] - 4s 3ms/step - loss: 0.5949 - accuracy: 0.6794 - val_loss: 0.5935 - val_accuracy: 0.6778\n",
      "Epoch 9/50\n",
      "1349/1349 [==============================] - 4s 3ms/step - loss: 0.5936 - accuracy: 0.6796 - val_loss: 0.5922 - val_accuracy: 0.6827\n",
      "Epoch 10/50\n",
      "1349/1349 [==============================] - 4s 3ms/step - loss: 0.5927 - accuracy: 0.6816 - val_loss: 0.5901 - val_accuracy: 0.6833\n",
      "Epoch 11/50\n",
      "1349/1349 [==============================] - 4s 3ms/step - loss: 0.5918 - accuracy: 0.6817 - val_loss: 0.5890 - val_accuracy: 0.6848\n",
      "Epoch 12/50\n",
      "1349/1349 [==============================] - 4s 3ms/step - loss: 0.5905 - accuracy: 0.6831 - val_loss: 0.5931 - val_accuracy: 0.6840\n",
      "Epoch 13/50\n",
      "1349/1349 [==============================] - 4s 3ms/step - loss: 0.5896 - accuracy: 0.6852 - val_loss: 0.5871 - val_accuracy: 0.6879\n",
      "Epoch 14/50\n",
      "1349/1349 [==============================] - 4s 3ms/step - loss: 0.5885 - accuracy: 0.6845 - val_loss: 0.5879 - val_accuracy: 0.6871\n",
      "Epoch 15/50\n",
      "1349/1349 [==============================] - 4s 3ms/step - loss: 0.5878 - accuracy: 0.6848 - val_loss: 0.5845 - val_accuracy: 0.6872\n",
      "Epoch 16/50\n",
      "1349/1349 [==============================] - 4s 3ms/step - loss: 0.5869 - accuracy: 0.6854 - val_loss: 0.5838 - val_accuracy: 0.6879\n",
      "Epoch 17/50\n",
      "1349/1349 [==============================] - 4s 3ms/step - loss: 0.5853 - accuracy: 0.6870 - val_loss: 0.5866 - val_accuracy: 0.6869\n",
      "Epoch 18/50\n",
      "1349/1349 [==============================] - 4s 3ms/step - loss: 0.5848 - accuracy: 0.6865 - val_loss: 0.5819 - val_accuracy: 0.6886\n",
      "Epoch 19/50\n",
      "1349/1349 [==============================] - 4s 3ms/step - loss: 0.5840 - accuracy: 0.6871 - val_loss: 0.5805 - val_accuracy: 0.6919\n",
      "Epoch 20/50\n",
      "1349/1349 [==============================] - 4s 3ms/step - loss: 0.5828 - accuracy: 0.6881 - val_loss: 0.5820 - val_accuracy: 0.6890\n",
      "Epoch 21/50\n",
      "1349/1349 [==============================] - 4s 3ms/step - loss: 0.5824 - accuracy: 0.6891 - val_loss: 0.5780 - val_accuracy: 0.6931\n",
      "Epoch 22/50\n",
      "1349/1349 [==============================] - 4s 3ms/step - loss: 0.5807 - accuracy: 0.6903 - val_loss: 0.5787 - val_accuracy: 0.6913\n",
      "Epoch 23/50\n",
      "1349/1349 [==============================] - 4s 3ms/step - loss: 0.5800 - accuracy: 0.6898 - val_loss: 0.5759 - val_accuracy: 0.6938\n",
      "Epoch 24/50\n",
      "1349/1349 [==============================] - 4s 3ms/step - loss: 0.5786 - accuracy: 0.6912 - val_loss: 0.5754 - val_accuracy: 0.6964\n",
      "Epoch 25/50\n",
      "1349/1349 [==============================] - 4s 3ms/step - loss: 0.5777 - accuracy: 0.6934 - val_loss: 0.5725 - val_accuracy: 0.6964\n",
      "Epoch 26/50\n",
      "1349/1349 [==============================] - 4s 3ms/step - loss: 0.5764 - accuracy: 0.6930 - val_loss: 0.5719 - val_accuracy: 0.6969\n",
      "Epoch 27/50\n",
      "1349/1349 [==============================] - 4s 3ms/step - loss: 0.5752 - accuracy: 0.6943 - val_loss: 0.5706 - val_accuracy: 0.6988\n",
      "Epoch 28/50\n",
      "1349/1349 [==============================] - 4s 3ms/step - loss: 0.5740 - accuracy: 0.6958 - val_loss: 0.5679 - val_accuracy: 0.6997\n",
      "Epoch 29/50\n",
      "1349/1349 [==============================] - 4s 3ms/step - loss: 0.5717 - accuracy: 0.6966 - val_loss: 0.5666 - val_accuracy: 0.7032\n",
      "Epoch 30/50\n",
      "1349/1349 [==============================] - 4s 3ms/step - loss: 0.5707 - accuracy: 0.6973 - val_loss: 0.5653 - val_accuracy: 0.7049\n",
      "Epoch 31/50\n",
      "1349/1349 [==============================] - 4s 3ms/step - loss: 0.5684 - accuracy: 0.7001 - val_loss: 0.5633 - val_accuracy: 0.7049\n",
      "Epoch 32/50\n",
      "1349/1349 [==============================] - 4s 3ms/step - loss: 0.5667 - accuracy: 0.7018 - val_loss: 0.5604 - val_accuracy: 0.7071\n",
      "Epoch 33/50\n",
      "1349/1349 [==============================] - 4s 3ms/step - loss: 0.5645 - accuracy: 0.7033 - val_loss: 0.5628 - val_accuracy: 0.7042\n",
      "Epoch 34/50\n",
      "1349/1349 [==============================] - 5s 3ms/step - loss: 0.5613 - accuracy: 0.7047 - val_loss: 0.5550 - val_accuracy: 0.7096\n",
      "Epoch 35/50\n",
      "1349/1349 [==============================] - 5s 3ms/step - loss: 0.5594 - accuracy: 0.7067 - val_loss: 0.5506 - val_accuracy: 0.7141\n",
      "Epoch 36/50\n",
      "1349/1349 [==============================] - 5s 3ms/step - loss: 0.5567 - accuracy: 0.7104 - val_loss: 0.5509 - val_accuracy: 0.7140\n",
      "Epoch 37/50\n",
      "1349/1349 [==============================] - 5s 3ms/step - loss: 0.5539 - accuracy: 0.7123 - val_loss: 0.5436 - val_accuracy: 0.7209\n",
      "Epoch 38/50\n",
      "1349/1349 [==============================] - 5s 4ms/step - loss: 0.5507 - accuracy: 0.7142 - val_loss: 0.5433 - val_accuracy: 0.7194\n",
      "Epoch 39/50\n",
      "1349/1349 [==============================] - 5s 3ms/step - loss: 0.5479 - accuracy: 0.7158 - val_loss: 0.5377 - val_accuracy: 0.7257\n",
      "Epoch 40/50\n",
      "1349/1349 [==============================] - 5s 3ms/step - loss: 0.5446 - accuracy: 0.7170 - val_loss: 0.5334 - val_accuracy: 0.7272\n",
      "Epoch 41/50\n",
      "1349/1349 [==============================] - 5s 4ms/step - loss: 0.5410 - accuracy: 0.7221 - val_loss: 0.5325 - val_accuracy: 0.7283\n",
      "Epoch 42/50\n",
      "1349/1349 [==============================] - 5s 3ms/step - loss: 0.5374 - accuracy: 0.7244 - val_loss: 0.5264 - val_accuracy: 0.7332\n",
      "Epoch 43/50\n",
      "1349/1349 [==============================] - 5s 3ms/step - loss: 0.5335 - accuracy: 0.7281 - val_loss: 0.5246 - val_accuracy: 0.7329\n",
      "Epoch 44/50\n",
      "1349/1349 [==============================] - 5s 4ms/step - loss: 0.5293 - accuracy: 0.7299 - val_loss: 0.5171 - val_accuracy: 0.7396\n",
      "Epoch 45/50\n",
      "1349/1349 [==============================] - 5s 3ms/step - loss: 0.5253 - accuracy: 0.7328 - val_loss: 0.5129 - val_accuracy: 0.7438\n",
      "Epoch 46/50\n",
      "1349/1349 [==============================] - 5s 4ms/step - loss: 0.5203 - accuracy: 0.7368 - val_loss: 0.5066 - val_accuracy: 0.7473\n",
      "Epoch 47/50\n",
      "1349/1349 [==============================] - 5s 3ms/step - loss: 0.5166 - accuracy: 0.7391 - val_loss: 0.5043 - val_accuracy: 0.7494\n",
      "Epoch 48/50\n",
      "1349/1349 [==============================] - 5s 3ms/step - loss: 0.5121 - accuracy: 0.7420 - val_loss: 0.4969 - val_accuracy: 0.7529\n",
      "Epoch 49/50\n",
      "1349/1349 [==============================] - 5s 3ms/step - loss: 0.5065 - accuracy: 0.7457 - val_loss: 0.4904 - val_accuracy: 0.7585\n",
      "Epoch 50/50\n",
      "1349/1349 [==============================] - 5s 3ms/step - loss: 0.5025 - accuracy: 0.7482 - val_loss: 0.4907 - val_accuracy: 0.7575\n"
     ]
    }
   ],
   "source": [
    "#GRU model\n",
    "gru_input = Input(shape = (backcandles, 2), name = 'gru_input')\n",
    "\n",
    "inputs = GRU(80, name='first_layer')(gru_input)\n",
    "\n",
    "inputs = Dense(1, name='dense_layer')(inputs)\n",
    "\n",
    "output = Activation('sigmoid', name = 'output')(inputs)\n",
    "\n",
    "model = Model(inputs = gru_input, outputs = output)\n",
    "\n",
    "model.compile(optimizer=\"adam\", loss = \"binary_crossentropy\", metrics = [\"accuracy\"])\n",
    "\n",
    "history = model.fit(x=Z, y=y_final, epochs = 50, validation_data = (Z, y_final))"
   ]
  },
  {
   "cell_type": "code",
   "execution_count": 19,
   "metadata": {},
   "outputs": [
    {
     "name": "stdout",
     "output_type": "stream",
     "text": [
      "Epoch 1/50\n",
      "1349/1349 [==============================] - 6s 4ms/step - loss: 0.5965 - accuracy: 0.6738 - val_loss: 0.5701 - val_accuracy: 0.6980\n",
      "Epoch 2/50\n",
      "1349/1349 [==============================] - 6s 4ms/step - loss: 0.5697 - accuracy: 0.6964 - val_loss: 0.5613 - val_accuracy: 0.7067\n",
      "Epoch 3/50\n",
      "1349/1349 [==============================] - 5s 4ms/step - loss: 0.5642 - accuracy: 0.7042 - val_loss: 0.5570 - val_accuracy: 0.7109\n",
      "Epoch 4/50\n",
      "1349/1349 [==============================] - 5s 4ms/step - loss: 0.5611 - accuracy: 0.7049 - val_loss: 0.5545 - val_accuracy: 0.7121\n",
      "Epoch 5/50\n",
      "1349/1349 [==============================] - 5s 4ms/step - loss: 0.5569 - accuracy: 0.7100 - val_loss: 0.5480 - val_accuracy: 0.7169\n",
      "Epoch 6/50\n",
      "1349/1349 [==============================] - 5s 4ms/step - loss: 0.5528 - accuracy: 0.7110 - val_loss: 0.5430 - val_accuracy: 0.7200\n",
      "Epoch 7/50\n",
      "1349/1349 [==============================] - 5s 4ms/step - loss: 0.5487 - accuracy: 0.7167 - val_loss: 0.5397 - val_accuracy: 0.7237\n",
      "Epoch 8/50\n",
      "1349/1349 [==============================] - 5s 4ms/step - loss: 0.5462 - accuracy: 0.7182 - val_loss: 0.5338 - val_accuracy: 0.7287\n",
      "Epoch 9/50\n",
      "1349/1349 [==============================] - 5s 4ms/step - loss: 0.5410 - accuracy: 0.7217 - val_loss: 0.5302 - val_accuracy: 0.7302\n",
      "Epoch 10/50\n",
      "1349/1349 [==============================] - 5s 4ms/step - loss: 0.5374 - accuracy: 0.7233 - val_loss: 0.5269 - val_accuracy: 0.7336\n",
      "Epoch 11/50\n",
      "1349/1349 [==============================] - 5s 4ms/step - loss: 0.5327 - accuracy: 0.7277 - val_loss: 0.5197 - val_accuracy: 0.7379\n",
      "Epoch 12/50\n",
      "1349/1349 [==============================] - 5s 4ms/step - loss: 0.5282 - accuracy: 0.7300 - val_loss: 0.5125 - val_accuracy: 0.7430\n",
      "Epoch 13/50\n",
      "1349/1349 [==============================] - 5s 4ms/step - loss: 0.5230 - accuracy: 0.7347 - val_loss: 0.5082 - val_accuracy: 0.7483\n",
      "Epoch 14/50\n",
      "1349/1349 [==============================] - 5s 4ms/step - loss: 0.5199 - accuracy: 0.7370 - val_loss: 0.5043 - val_accuracy: 0.7526\n",
      "Epoch 15/50\n",
      "1349/1349 [==============================] - 5s 4ms/step - loss: 0.5146 - accuracy: 0.7401 - val_loss: 0.5000 - val_accuracy: 0.7525\n",
      "Epoch 16/50\n",
      "1349/1349 [==============================] - 5s 4ms/step - loss: 0.5107 - accuracy: 0.7430 - val_loss: 0.4988 - val_accuracy: 0.7541\n",
      "Epoch 17/50\n",
      "1349/1349 [==============================] - 5s 4ms/step - loss: 0.5046 - accuracy: 0.7482 - val_loss: 0.4944 - val_accuracy: 0.7559\n",
      "Epoch 18/50\n",
      "1349/1349 [==============================] - 5s 4ms/step - loss: 0.4995 - accuracy: 0.7523 - val_loss: 0.4884 - val_accuracy: 0.7601\n",
      "Epoch 19/50\n",
      "1349/1349 [==============================] - 5s 4ms/step - loss: 0.4956 - accuracy: 0.7542 - val_loss: 0.4793 - val_accuracy: 0.7677\n",
      "Epoch 20/50\n",
      "1349/1349 [==============================] - 5s 4ms/step - loss: 0.4915 - accuracy: 0.7584 - val_loss: 0.4828 - val_accuracy: 0.7647\n",
      "Epoch 21/50\n",
      "1349/1349 [==============================] - 5s 4ms/step - loss: 0.4855 - accuracy: 0.7611 - val_loss: 0.4696 - val_accuracy: 0.7722\n",
      "Epoch 22/50\n",
      "1349/1349 [==============================] - 5s 4ms/step - loss: 0.4803 - accuracy: 0.7644 - val_loss: 0.4692 - val_accuracy: 0.7747\n",
      "Epoch 23/50\n",
      "1349/1349 [==============================] - 5s 4ms/step - loss: 0.4758 - accuracy: 0.7678 - val_loss: 0.4555 - val_accuracy: 0.7837\n",
      "Epoch 24/50\n",
      "1349/1349 [==============================] - 5s 4ms/step - loss: 0.4702 - accuracy: 0.7726 - val_loss: 0.4522 - val_accuracy: 0.7844\n",
      "Epoch 25/50\n",
      "1349/1349 [==============================] - 5s 4ms/step - loss: 0.4659 - accuracy: 0.7740 - val_loss: 0.4464 - val_accuracy: 0.7845\n",
      "Epoch 26/50\n",
      "1349/1349 [==============================] - 6s 4ms/step - loss: 0.4611 - accuracy: 0.7769 - val_loss: 0.4426 - val_accuracy: 0.7896\n",
      "Epoch 27/50\n",
      "1349/1349 [==============================] - 6s 4ms/step - loss: 0.4566 - accuracy: 0.7785 - val_loss: 0.4357 - val_accuracy: 0.7943\n",
      "Epoch 28/50\n",
      "1349/1349 [==============================] - 6s 4ms/step - loss: 0.4533 - accuracy: 0.7818 - val_loss: 0.4278 - val_accuracy: 0.8002\n",
      "Epoch 29/50\n",
      "1349/1349 [==============================] - 6s 4ms/step - loss: 0.4484 - accuracy: 0.7851 - val_loss: 0.4275 - val_accuracy: 0.8002\n",
      "Epoch 30/50\n",
      "1349/1349 [==============================] - 6s 4ms/step - loss: 0.4454 - accuracy: 0.7872 - val_loss: 0.4289 - val_accuracy: 0.8003\n",
      "Epoch 31/50\n",
      "1349/1349 [==============================] - 6s 4ms/step - loss: 0.4397 - accuracy: 0.7908 - val_loss: 0.4214 - val_accuracy: 0.8021\n",
      "Epoch 32/50\n",
      "1349/1349 [==============================] - 6s 4ms/step - loss: 0.4347 - accuracy: 0.7929 - val_loss: 0.4168 - val_accuracy: 0.8082\n",
      "Epoch 33/50\n",
      "1349/1349 [==============================] - 5s 4ms/step - loss: 0.4324 - accuracy: 0.7961 - val_loss: 0.4154 - val_accuracy: 0.8072\n",
      "Epoch 34/50\n",
      "1349/1349 [==============================] - 5s 4ms/step - loss: 0.4260 - accuracy: 0.7984 - val_loss: 0.4107 - val_accuracy: 0.8085\n",
      "Epoch 35/50\n",
      "1349/1349 [==============================] - 5s 4ms/step - loss: 0.4228 - accuracy: 0.7997 - val_loss: 0.4017 - val_accuracy: 0.8148\n",
      "Epoch 36/50\n",
      "1349/1349 [==============================] - 5s 4ms/step - loss: 0.4208 - accuracy: 0.8019 - val_loss: 0.3942 - val_accuracy: 0.8190\n",
      "Epoch 37/50\n",
      "1349/1349 [==============================] - 6s 4ms/step - loss: 0.4162 - accuracy: 0.8040 - val_loss: 0.4024 - val_accuracy: 0.8128\n",
      "Epoch 38/50\n",
      "1349/1349 [==============================] - 6s 4ms/step - loss: 0.4090 - accuracy: 0.8082 - val_loss: 0.3888 - val_accuracy: 0.8212\n",
      "Epoch 39/50\n",
      "1349/1349 [==============================] - 6s 4ms/step - loss: 0.4073 - accuracy: 0.8092 - val_loss: 0.3871 - val_accuracy: 0.8212\n",
      "Epoch 40/50\n",
      "1349/1349 [==============================] - 6s 4ms/step - loss: 0.4028 - accuracy: 0.8108 - val_loss: 0.3844 - val_accuracy: 0.8252\n",
      "Epoch 41/50\n",
      "1349/1349 [==============================] - 5s 4ms/step - loss: 0.3987 - accuracy: 0.8138 - val_loss: 0.3792 - val_accuracy: 0.8277\n",
      "Epoch 42/50\n",
      "1349/1349 [==============================] - 6s 4ms/step - loss: 0.4002 - accuracy: 0.8128 - val_loss: 0.3756 - val_accuracy: 0.8293\n",
      "Epoch 43/50\n",
      "1349/1349 [==============================] - 5s 4ms/step - loss: 0.3925 - accuracy: 0.8202 - val_loss: 0.3855 - val_accuracy: 0.8242\n",
      "Epoch 44/50\n",
      "1349/1349 [==============================] - 5s 4ms/step - loss: 0.3869 - accuracy: 0.8210 - val_loss: 0.3660 - val_accuracy: 0.8354\n",
      "Epoch 45/50\n",
      "1349/1349 [==============================] - 5s 4ms/step - loss: 0.3869 - accuracy: 0.8204 - val_loss: 0.3657 - val_accuracy: 0.8345\n",
      "Epoch 46/50\n",
      "1349/1349 [==============================] - 5s 4ms/step - loss: 0.3830 - accuracy: 0.8235 - val_loss: 0.3738 - val_accuracy: 0.8279\n",
      "Epoch 47/50\n",
      "1349/1349 [==============================] - 5s 4ms/step - loss: 0.3807 - accuracy: 0.8227 - val_loss: 0.3605 - val_accuracy: 0.8384\n",
      "Epoch 48/50\n",
      "1349/1349 [==============================] - 6s 4ms/step - loss: 0.3738 - accuracy: 0.8304 - val_loss: 0.3495 - val_accuracy: 0.8446\n",
      "Epoch 49/50\n",
      "1349/1349 [==============================] - 6s 4ms/step - loss: 0.3706 - accuracy: 0.8307 - val_loss: 0.3561 - val_accuracy: 0.8408\n",
      "Epoch 50/50\n",
      "1349/1349 [==============================] - 6s 4ms/step - loss: 0.3727 - accuracy: 0.8290 - val_loss: 0.3618 - val_accuracy: 0.8368\n"
     ]
    }
   ],
   "source": [
    "#OGRU model\n",
    "ogru_input = Input(shape = (backcandles, 2), name = 'ogru_input')\n",
    "\n",
    "inputs = ogru_layer(ogru_input)\n",
    "\n",
    "inputs = Dense(1, name='dense_layer')(inputs)\n",
    "\n",
    "output = Activation('sigmoid', name = 'output')(inputs)\n",
    "\n",
    "model2 = Model(inputs = ogru_input, outputs = output)\n",
    "\n",
    "model2.compile(optimizer=\"adam\", loss = \"binary_crossentropy\", metrics = [\"accuracy\"])\n",
    "\n",
    "history2 = model2.fit(x=Z, y=y_final, epochs = 50, validation_data = (Z, y_final))"
   ]
  },
  {
   "cell_type": "code",
   "execution_count": null,
   "metadata": {},
   "outputs": [],
   "source": [
    "#gru plot\n",
    "history.history.keys() \n",
    "plt.plot(history.history['loss'], color = 'red', label = \"Training Loss\")\n",
    "plt.plot(history.history['accuracy'], color = 'royalblue', label = \"Training Accuracy\")\n",
    "plt.xlabel('Number of Epochs', fontsize = 15)\n",
    "plt.ylabel('Accuracy', fontsize = 15)\n",
    "plt.gca().tick_params(axis='x', labelsize=12)\n",
    "plt.gca().tick_params(axis='y', labelsize=12)\n",
    "plt.legend(fontsize= 12)\n",
    "#plt.savefig('GRU.png', format='png', dpi=300, bbox_inches='tight')\n",
    "plt.show()"
   ]
  },
  {
   "cell_type": "code",
   "execution_count": null,
   "metadata": {},
   "outputs": [],
   "source": [
    "#ogru plot\n",
    "history2.history.keys() \n",
    "plt.plot(history3.history['loss'], color = 'red', label = \"Training Loss\")\n",
    "plt.plot(history3.history['accuracy'], color = 'royalblue', label = \"Training Accuracy\")\n",
    "plt.xlabel('Number of Epochs', fontsize = 15)\n",
    "plt.ylabel('Accuracy', fontsize = 15)\n",
    "plt.gca().tick_params(axis='x', labelsize=12)\n",
    "plt.gca().tick_params(axis='y', labelsize=12)\n",
    "plt.legend(fontsize= 12)\n",
    "#plt.savefig('MyGRU.png', format='png', dpi=300, bbox_inches='tight')\n",
    "plt.show()\n"
   ]
  },
  {
   "cell_type": "code",
   "execution_count": 23,
   "metadata": {},
   "outputs": [
    {
     "data": {
      "image/png": "[encoded data removed]",
      "text/plain": [
       "<Figure size 900x300 with 1 Axes>"
      ]
     },
     "metadata": {},
     "output_type": "display_data"
    }
   ],
   "source": [
    "#Figure 6.3\n",
    "plt.figure(figsize=(9, 3))\n",
    "plt.plot(history.history['loss'], color = 'red', label='GRU Model')\n",
    "plt.plot(history2.history['loss'], color = 'blue', label='OGRU Model')\n",
    "plt.gca().tick_params(axis='x', labelsize=15)\n",
    "plt.gca().tick_params(axis='y', labelsize=15) \n",
    "plt.xlabel('Epoch', size = 17)\n",
    "plt.ylim(0.30, 0.65)\n",
    "plt.ylabel('Training Loss', size = 17)\n",
    "plt.legend(fontsize = 13)\n",
    "plt.savefig('GRU vs OGRU.jpg', format='jpg', dpi=300, bbox_inches='tight')\n",
    "plt.show()"
   ]
  },
  {
   "cell_type": "code",
   "execution_count": null,
   "metadata": {},
   "outputs": [],
   "source": [
    "#This additional section provides the out-of-sample results of the GRU vs OGRU"
   ]
  },
  {
   "cell_type": "code",
   "execution_count": 24,
   "metadata": {},
   "outputs": [],
   "source": [
    "X_test = test_data[[\"Return_Squared\", \"Hourly Volatility\"]]\n",
    "Y_test = test_data[\"target\"]\n",
    "test_dataset = test_data[[\"Return_Squared\", \"Hourly Volatility\", \"target\"]]"
   ]
  },
  {
   "cell_type": "code",
   "execution_count": 25,
   "metadata": {},
   "outputs": [],
   "source": [
    "test_scaled = scaler.fit_transform(test_dataset)\n",
    "X_test_scaled = scaler.fit_transform(X_test)"
   ]
  },
  {
   "cell_type": "code",
   "execution_count": 32,
   "metadata": {},
   "outputs": [],
   "source": [
    "T = []\n",
    "\n",
    "backcandles = 15\n",
    "\n",
    "for j in range(2):\n",
    "    T.append([])\n",
    "    for i in range(backcandles, X_test_scaled.shape[0]):\n",
    "        T[j].append(X_test_scaled[i-backcandles:i, j])"
   ]
  },
  {
   "cell_type": "code",
   "execution_count": 33,
   "metadata": {},
   "outputs": [],
   "source": [
    "T = np.moveaxis(T, [0], [2])\n",
    "T, yi_test = np.array(T), np.array(test_scaled[backcandles-1:, -1])\n",
    "y_final_test = np.reshape(yi_test,(len(yi_test),1))\n",
    "y_final_test = y_final_test[1:]"
   ]
  },
  {
   "cell_type": "code",
   "execution_count": 43,
   "metadata": {},
   "outputs": [
    {
     "name": "stdout",
     "output_type": "stream",
     "text": [
      "[[4645 1286]\n",
      " [3422 5025]]\n"
     ]
    }
   ],
   "source": [
    "#gru out-of-sample\n",
    "test_predictions1 = model.predict(T)\n",
    "test_predicted_classes1 = (test_predictions1 > 0.5).astype(int)\n",
    "dataframe1 = pd.DataFrame(y_final_test, columns = [\"target\"])\n",
    "dataframe1[\"predicted\"] = test_predicted_classes1\n",
    "cm_gru = confusion_matrix(dataframe1['predicted'], dataframe1['target'])\n",
    "print(cm_gru)"
   ]
  },
  {
   "cell_type": "code",
   "execution_count": 42,
   "metadata": {},
   "outputs": [
    {
     "name": "stdout",
     "output_type": "stream",
     "text": [
      "[[4490 1600]\n",
      " [3577 4711]]\n"
     ]
    }
   ],
   "source": [
    "#ogru out-of-sample\n",
    "test_predictions2 = model2.predict(T)\n",
    "test_predicted_classes2 = (test_predictions2 > 0.5).astype(int)\n",
    "dataframe2 = pd.DataFrame(y_final_test, columns = [\"target\"])\n",
    "dataframe2[\"predicted\"] = test_predicted_classes2\n",
    "cm_ogru = confusion_matrix(dataframe2['predicted'], dataframe2['target'])\n",
    "print(cm_ogru)"
   ]
  },
  {
   "cell_type": "code",
   "execution_count": null,
   "metadata": {},
   "outputs": [],
   "source": []
  },
  {
   "cell_type": "code",
   "execution_count": null,
   "metadata": {},
   "outputs": [],
   "source": []
  }
 ],
 "metadata": {
  "kernelspec": {
   "display_name": "diss_model",
   "language": "python",
   "name": "diss_model"
  },
  "language_info": {
   "codemirror_mode": {
    "name": "ipython",
    "version": 3
   },
   "file_extension": ".py",
   "mimetype": "text/x-python",
   "name": "python",
   "nbconvert_exporter": "python",
   "pygments_lexer": "ipython3",
   "version": "3.9.15"
  }
 },
 "nbformat": 4,
 "nbformat_minor": 4
}
